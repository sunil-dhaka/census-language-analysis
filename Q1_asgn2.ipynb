{
 "cells": [
  {
   "cell_type": "markdown",
   "metadata": {},
   "source": [
    "## import modules"
   ]
  },
  {
   "cell_type": "code",
   "execution_count": 3,
   "metadata": {},
   "outputs": [],
   "source": [
    "import pandas as pd"
   ]
  },
  {
   "cell_type": "markdown",
   "metadata": {},
   "source": [
    "## pre-process census data"
   ]
  },
  {
   "cell_type": "code",
   "execution_count": 4,
   "metadata": {},
   "outputs": [],
   "source": [
    "# for population data\n",
    "cols=['State', 'Level', 'Name', 'TRU', 'No_HH', 'TOT_P', 'TOT_M', 'TOT_F']\n",
    "census=pd.read_excel('datasets/census.xlsx',engine='openpyxl',usecols=cols)\n",
    "censusIndia=census.iloc[0,:]\n",
    "census=census.loc[census.Level=='STATE']\n",
    "census=census.loc[census.TRU=='Total']\n",
    "census=census.append(censusIndia,ignore_index=True)\n",
    "census.sort_values(by=['State'],axis=0,inplace=True)\n",
    "census.reset_index(drop=True,inplace=True)"
   ]
  },
  {
   "cell_type": "markdown",
   "metadata": {},
   "source": [
    "## define function \n",
    "- that finds ratios for state/ut given its code\n",
    "\n",
    "- particular details are given in comments"
   ]
  },
  {
   "cell_type": "code",
   "execution_count": 5,
   "metadata": {},
   "outputs": [],
   "source": [
    "#===================\n",
    "# # a function that just takes state code that does\n",
    "# manipulates and finds appropriate sum\n",
    "# finds total pop fro that state from census data\n",
    "# then returns a nice ratio dictionary\n",
    "#===================\n",
    "\n",
    "def ratioFinder(stateCode):\n",
    "    # 5 is specific to TOT_P\n",
    "    statePop=census.iloc[stateCode,5] \n",
    "    # modify state code\n",
    "    stateCode_str=str(stateCode).zfill(2)\n",
    "    # read df from file\n",
    "    df=pd.read_excel(f'datasets/C-17/{stateCode_str}.xlsx',skiprows=6,header=None,engine='openpyxl')\n",
    "    df.fillna(value=0,inplace=True)\n",
    "    # find total no \n",
    "    # note: these col numbers are specific to df #\n",
    "    total3=sum(df.iloc[:,14].tolist())\n",
    "    total2=sum(df.iloc[:,9].tolist())-total3 # need to remove total3 as itself is of 2+ language(that also includes 3+ lang persons) speakers\n",
    "    total1=sum(df.iloc[:,4].tolist())-total2-total3 # as previously I was double substracting 3+ persons I was getting negative number for that\n",
    "    # doing -toatal3 because total2 has been modified above with toatl3 being substracted\n",
    "    ratio_1=round(100*total1/statePop,2)\n",
    "    ratio_2=round(100*total2/statePop,2)\n",
    "    ratio_3=round(100*total3/statePop,2)\n",
    "    #store ratios in a dict\n",
    "    stateRatios={\n",
    "        'state-code':stateCode,\n",
    "        'percent-one':ratio_1,\n",
    "        'percent-two':ratio_2,\n",
    "        'percent-three':ratio_3,\n",
    "    }\n",
    "    #print('Processed state -- ',stateCode)\n",
    "    return stateRatios\n"
   ]
  },
  {
   "cell_type": "markdown",
   "metadata": {},
   "source": [
    "## find ratios for states \n",
    "- using above func and store them into a csv file"
   ]
  },
  {
   "cell_type": "code",
   "execution_count": 6,
   "metadata": {},
   "outputs": [
    {
     "name": "stdout",
     "output_type": "stream",
     "text": [
      "CPU times: user 19.4 s, sys: 44.6 ms, total: 19.4 s\n",
      "Wall time: 19.5 s\n"
     ]
    }
   ],
   "source": [
    "%%time\n",
    "ratioList=[ratioFinder(i) for i in range(0,36)]\n",
    "ratioDF=pd.DataFrame(ratioList)\n",
    "ratioDF.to_csv('outputs/percent-india.csv',index=False)"
   ]
  },
  {
   "cell_type": "code",
   "execution_count": null,
   "metadata": {},
   "outputs": [],
   "source": [
    "ratioDF"
   ]
  },
  {
   "cell_type": "markdown",
   "metadata": {},
   "source": [
    "## observations\n",
    "\n",
    "- for most of the state/ut majority population speaks only one language. Exactly two languages speaking population is lower than only one language speaking population. And 3+ languages speaking population is even less. For some exception state/ut it is not true, but these are only one or two states.\n",
    "- These findings are intutive; we expect minor proportion of popultaion to speak more than 3_ languages and major proportion of popultaion to speak only one language.\n",
    "- As expected sum of all three ratios is 100%; meaning it covers whole population of state/ut   "
   ]
  }
 ],
 "metadata": {
  "interpreter": {
   "hash": "365d70965140afb04a698773bfdd31483bc82432b779112c2a78b5de7c16d125"
  },
  "kernelspec": {
   "display_name": "Python 3.8.5 64-bit ('base': conda)",
   "name": "python3"
  },
  "language_info": {
   "codemirror_mode": {
    "name": "ipython",
    "version": 3
   },
   "file_extension": ".py",
   "mimetype": "text/x-python",
   "name": "python",
   "nbconvert_exporter": "python",
   "pygments_lexer": "ipython3",
   "version": "3.8.5"
  },
  "orig_nbformat": 4
 },
 "nbformat": 4,
 "nbformat_minor": 2
}
