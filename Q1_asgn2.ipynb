{
 "cells": [
  {
   "cell_type": "markdown",
   "metadata": {},
   "source": [
    "# to-dos\n",
    "- [x] understand the datsets\n",
    "- [x] write a function to do it for all states\n",
    "- [ ] calculation for ratio is correct or not in ratioFinder func\n",
    "- [ ] one state(code=30) has ratio-1(people who speak only one language) to be negative and but still sum is 1\n",
    "= [ ] now with this understanding I wan to say:\n",
    "    - first is total pop that speaks that language be it \n",
    "    - second is 2+(3+ included)\n",
    "    - third is about three plus"
   ]
  },
  {
   "cell_type": "code",
   "execution_count": 1,
   "metadata": {},
   "outputs": [],
   "source": [
    "# pandas basic methods to study dataset #\n",
    "# head()\n",
    "# tail()\n",
    "# shape\n",
    "# dtype\n",
    "# astype\n",
    "# isnull\n",
    "# dropna\n",
    "# fillna\n"
   ]
  },
  {
   "cell_type": "code",
   "execution_count": 2,
   "metadata": {},
   "outputs": [],
   "source": [
    "#pd.__version__\n",
    "#pd.io.excel.xlsx['openpyxl']\n",
    "#pd.set_option(\"xlsx\",\"openpyxl\")\n",
    "# above both options does not work :\n",
    "# currently have to specify engine in pd.read_excel itself\n",
    "# “openpyxl” supports newer Excel file formats\n",
    "# link:https://stackoverflow.com/questions/60288732/pandas-read-excel-returns-pendingdeprecationwarning\n",
    "# engine has been specified to deal with warning"
   ]
  },
  {
   "cell_type": "code",
   "execution_count": 3,
   "metadata": {},
   "outputs": [],
   "source": [
    "import pandas as pd"
   ]
  },
  {
   "cell_type": "code",
   "execution_count": 4,
   "metadata": {},
   "outputs": [],
   "source": [
    "# for population data\n",
    "cols=['State', 'Level', 'Name', 'TRU', 'No_HH', 'TOT_P', 'TOT_M', 'TOT_F']\n",
    "census=pd.read_excel('datasets/census.xlsx',engine='openpyxl',usecols=cols)\n",
    "censusIndia=census.iloc[0,:]\n",
    "census=census.loc[census.Level=='STATE']\n",
    "census=census.loc[census.TRU=='Total']\n",
    "census=census.append(censusIndia,ignore_index=True)\n",
    "census.sort_values(by=['State'],axis=0,inplace=True)\n",
    "census.reset_index(drop=True,inplace=True)"
   ]
  },
  {
   "cell_type": "code",
   "execution_count": 5,
   "metadata": {},
   "outputs": [],
   "source": [
    "#===================\n",
    "# # a function that just takes state code that does\n",
    "# manipulates and finds appropriate sum\n",
    "# finds total pop fro that state from census data\n",
    "# then returns a nice ratio dictionary\n",
    "#===================\n",
    "\n",
    "def ratioFinder(stateCode):\n",
    "    # 5 is specific to TOT_P\n",
    "    statePop=census.iloc[stateCode,5] \n",
    "    # modify state code\n",
    "    stateCode_str=str(stateCode).zfill(2)\n",
    "    # read df from file\n",
    "    df=pd.read_excel(f'datasets/C-17/{stateCode_str}.xlsx',skiprows=6,header=None,engine='openpyxl')\n",
    "    df.fillna(value=0,inplace=True)\n",
    "    # find total no \n",
    "    # note: these col numbers are specific to df #\n",
    "    total3=sum(df.iloc[:,14].tolist())\n",
    "    total2=sum(df.iloc[:,9].tolist())-total3 # need to remove total3 as itself is of 2+ language(that also includes 3+ lang persons) speakers\n",
    "    total1=sum(df.iloc[:,4].tolist())-total2-total3 # as previously I was double substracting 3+ persons I was getting negative number for that\n",
    "    # doing -toatal3 because total2 has been modified above with toatl3 being substracted\n",
    "    ratio_1=round(100*total1/statePop,2)\n",
    "    ratio_2=round(100*total2/statePop,2)\n",
    "    ratio_3=round(100*total3/statePop,2)\n",
    "    #store ratios in a dict\n",
    "    stateRatios={\n",
    "        'state-code':stateCode,\n",
    "        'percent-one':ratio_1,\n",
    "        'percent-two':ratio_2,\n",
    "        'percent-three':ratio_3,\n",
    "    }\n",
    "    #print('Processed state -- ',stateCode)\n",
    "    return stateRatios\n"
   ]
  },
  {
   "cell_type": "code",
   "execution_count": 6,
   "metadata": {},
   "outputs": [
    {
     "name": "stdout",
     "output_type": "stream",
     "text": [
      "CPU times: user 19.4 s, sys: 44.6 ms, total: 19.4 s\n",
      "Wall time: 19.5 s\n"
     ]
    }
   ],
   "source": [
    "%%time\n",
    "ratioList=[ratioFinder(i) for i in range(0,36)]\n",
    "ratioDF=pd.DataFrame(ratioList)\n",
    "ratioDF.to_csv('outputs/percent-india.csv',index=False)"
   ]
  }
 ],
 "metadata": {
  "interpreter": {
   "hash": "365d70965140afb04a698773bfdd31483bc82432b779112c2a78b5de7c16d125"
  },
  "kernelspec": {
   "display_name": "Python 3.8.5 64-bit ('base': conda)",
   "name": "python3"
  },
  "language_info": {
   "codemirror_mode": {
    "name": "ipython",
    "version": 3
   },
   "file_extension": ".py",
   "mimetype": "text/x-python",
   "name": "python",
   "nbconvert_exporter": "python",
   "pygments_lexer": "ipython3",
   "version": "3.8.5"
  },
  "orig_nbformat": 4
 },
 "nbformat": 4,
 "nbformat_minor": 2
}
