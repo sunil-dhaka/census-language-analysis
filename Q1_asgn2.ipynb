{
 "cells": [
  {
   "cell_type": "markdown",
   "metadata": {},
   "source": [
    "# to-dos\n",
    "- [x] understand the datsets\n",
    "- [x] write a function to do it for all states\n",
    "- [ ] calculation for ratio is correct or not in ratioFinder func\n",
    "- [ ] one state(code=30) has ratio-1(people who speak only one language) to be negative and but still sum is 1"
   ]
  },
  {
   "cell_type": "code",
   "execution_count": null,
   "metadata": {},
   "outputs": [],
   "source": [
    "# pandas basic methods to study dataset #\n",
    "# head()\n",
    "# tail()\n",
    "# shape\n",
    "# dtype\n",
    "# astype\n",
    "# isnull\n",
    "# dropna\n",
    "# fillna\n"
   ]
  },
  {
   "cell_type": "code",
   "execution_count": null,
   "metadata": {},
   "outputs": [],
   "source": [
    "#pd.__version__\n",
    "#pd.io.excel.xlsx['openpyxl']\n",
    "#pd.set_option(\"xlsx\",\"openpyxl\")\n",
    "# above both options does not work :\n",
    "# currently have to specify engine in pd.read_excel itself\n",
    "# “openpyxl” supports newer Excel file formats\n",
    "# link:https://stackoverflow.com/questions/60288732/pandas-read-excel-returns-pendingdeprecationwarning\n",
    "# engine has been specified to deal with warning"
   ]
  },
  {
   "cell_type": "code",
   "execution_count": null,
   "metadata": {},
   "outputs": [],
   "source": [
    "import pandas as pd"
   ]
  },
  {
   "cell_type": "code",
   "execution_count": null,
   "metadata": {},
   "outputs": [],
   "source": [
    "# for population data\n",
    "cols=['State', 'Level', 'Name', 'TRU', 'No_HH', 'TOT_P', 'TOT_M', 'TOT_F']\n",
    "census=pd.read_excel('datasets/census.xlsx',engine='openpyxl',usecols=cols)\n",
    "censusIndia=census.iloc[0,:]\n",
    "census=census.loc[census.Level=='STATE']\n",
    "census=census.loc[census.TRU=='Total']\n",
    "census=census.append(censusIndia,ignore_index=True)\n",
    "census.sort_values(by=['State'],axis=0,inplace=True)\n",
    "census.reset_index(drop=True,inplace=True)"
   ]
  },
  {
   "cell_type": "code",
   "execution_count": null,
   "metadata": {},
   "outputs": [],
   "source": [
    "#===================\n",
    "# # a function that just takes state code that does\n",
    "# manipulates and finds appropriate sum\n",
    "# finds total pop fro that state from census data\n",
    "# then returns a nice ratio dictionary\n",
    "#===================\n",
    "\n",
    "def ratioFinder(stateCode):\n",
    "    # 5 is specific to TOT_P\n",
    "    statePop=census.iloc[stateCode,5] \n",
    "    # modify state code\n",
    "    stateCode=str(stateCode).zfill(2)\n",
    "    # read df from file\n",
    "    df=pd.read_excel(f'datasets/C-17/{stateCode}.xlsx',skiprows=6,header=None,engine='openpyxl')\n",
    "    df.fillna(value=0,inplace=True)\n",
    "    # find total no \n",
    "    # note: these col numbers are specific to df #\n",
    "    total3=sum(df.iloc[:,14].tolist())\n",
    "    total2=sum(df.iloc[:,9].tolist()) # no need to remove total3 as itself is of only 2 language speakers\n",
    "    total1=sum(df.iloc[:,4].tolist())-total2-total3\n",
    "\n",
    "    ratio_1=round(total1/statePop,2)\n",
    "    ratio_2=round(total2/statePop,2)\n",
    "    ratio_3=round(total3/statePop,2)\n",
    "    #store ratios in a dict\n",
    "    stateRatios={\n",
    "        'StateCode':stateCode,\n",
    "        'ratio-1':ratio_1,\n",
    "        'ratio-2':ratio_2,\n",
    "        'ratio-3':ratio_3,\n",
    "    }\n",
    "    #print('Processed state -- ',stateCode)\n",
    "    return stateRatios\n"
   ]
  },
  {
   "cell_type": "code",
   "execution_count": null,
   "metadata": {},
   "outputs": [],
   "source": [
    "%%time\n",
    "ratioList=[ratioFinder(i) for i in range(0,36)]\n",
    "ratioDF=pd.DataFrame(ratioList)\n",
    "ratioDF.to_csv('outputs/percent-india.csv',index=False)"
   ]
  }
 ],
 "metadata": {
  "interpreter": {
   "hash": "20d64e6457634db286bb2f57e568cdcaaf14f5fbfe37d467c75a4a80d0f4d780"
  },
  "kernelspec": {
   "display_name": "Python 3.8.5 64-bit ('base': conda)",
   "name": "python3"
  },
  "language_info": {
   "codemirror_mode": {
    "name": "ipython",
    "version": 3
   },
   "file_extension": ".py",
   "mimetype": "text/x-python",
   "name": "python",
   "nbconvert_exporter": "python",
   "pygments_lexer": "ipython3",
   "version": "3.8.5"
  },
  "orig_nbformat": 4
 },
 "nbformat": 4,
 "nbformat_minor": 2
}
