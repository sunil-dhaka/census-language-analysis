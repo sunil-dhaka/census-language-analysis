{
 "cells": [
  {
   "cell_type": "markdown",
   "metadata": {},
   "source": [
    "## import modules"
   ]
  },
  {
   "cell_type": "code",
   "execution_count": 18,
   "metadata": {},
   "outputs": [],
   "source": [
    "import pandas as pd\n",
    "from scipy import stats\n",
    "import numpy as np"
   ]
  },
  {
   "cell_type": "markdown",
   "metadata": {},
   "source": [
    "## census data processing"
   ]
  },
  {
   "cell_type": "code",
   "execution_count": 19,
   "metadata": {},
   "outputs": [],
   "source": [
    "# for population data\n",
    "cols=['State', 'Level', 'Name', 'TRU', 'No_HH', 'TOT_P', 'TOT_M', 'TOT_F']\n",
    "census=pd.read_excel('datasets/census.xlsx',engine='openpyxl',usecols=cols)\n",
    "censusIndia=census.iloc[0:3,:]\n",
    "census=census.loc[census.Level=='STATE']\n",
    "census=census.append(censusIndia,ignore_index=True)\n",
    "census.sort_values(by=['State'],axis=0,inplace=True)\n",
    "census.reset_index(drop=True,inplace=True)"
   ]
  },
  {
   "cell_type": "markdown",
   "metadata": {},
   "source": [
    "## urban-rural"
   ]
  },
  {
   "cell_type": "code",
   "execution_count": 20,
   "metadata": {},
   "outputs": [],
   "source": [
    "c18=pd.read_excel('datasets/C-18.xlsx',engine='openpyxl',skiprows=6,header=None)"
   ]
  },
  {
   "cell_type": "code",
   "execution_count": 21,
   "metadata": {},
   "outputs": [],
   "source": [
    "STATE_NAMES=[]\n",
    "for state in c18.iloc[:,2].values:\n",
    "    if not (state in STATE_NAMES):\n",
    "        STATE_NAMES.append(state)"
   ]
  },
  {
   "cell_type": "code",
   "execution_count": 27,
   "metadata": {},
   "outputs": [],
   "source": [
    "useful_data=[]\n",
    "for i,state in enumerate(STATE_NAMES):\n",
    "    \n",
    "    # here i is the state code\n",
    "    urban_pop=census[(census['State']==i) & (census['TRU']=='Urban')]['TOT_P'].values[0]\n",
    "    rural_pop=census[(census['State']==i) & (census['TRU']=='Rural')]['TOT_P'].values[0]\n",
    "    \n",
    "    # tri\n",
    "    tri_urban=c18[(c18.iloc[:,0]==i) & (c18.iloc[:,4]=='Total') & (c18.iloc[:,3]=='Urban')].iloc[0,8]\n",
    "    tri_rural=c18[(c18.iloc[:,0]==i) & (c18.iloc[:,4]=='Total') & (c18.iloc[:,3]=='Rural')].iloc[0,8]\n",
    "\n",
    "    #bi\n",
    "    bi_urban=c18[(c18.iloc[:,0]==i) & (c18.iloc[:,4]=='Total') & (c18.iloc[:,3]=='Urban')].iloc[0,5] - tri_urban\n",
    "    bi_rural=c18[(c18.iloc[:,0]==i) & (c18.iloc[:,4]=='Total') & (c18.iloc[:,3]=='Rural')].iloc[0,5] - tri_rural\n",
    "\n",
    "    #uni\n",
    "    uni_urban=urban_pop-bi_urban-tri_urban\n",
    "    uni_rural=rural_pop-bi_rural-tri_rural\n",
    "\n",
    "    '''\n",
    "    item={\n",
    "        'state-code':i,\n",
    "        'state-name':state,\n",
    "        'urban-pop':urban_pop,\n",
    "        'rural-pop':rural_pop,\n",
    "        'tri-urban-ratio':tri_urban/urban_pop,\n",
    "        'tri-rural-ratio':tri_rural/rural_pop,\n",
    "        'bi-urban-ratio':bi_urban/urban_pop,\n",
    "        'bi-rural-ratio':bi_rural/rural_pop,\n",
    "        'uni-urban-ratio':uni_urban/urban_pop,\n",
    "        'uni-rural-ratio':uni_rural/rural_pop\n",
    "    }\n",
    "    '''\n",
    "\n",
    "    item={\n",
    "        'state-code':i,\n",
    "        'state-name':state,\n",
    "        'urban-to-rural':urban_pop/rural_pop,\n",
    "        'tri-urban-to-rural-ratio':tri_urban/tri_rural,\n",
    "        'bi-urban-to-rural-ratio':bi_urban/bi_rural,\n",
    "        'uni-urban-to-rural-ratio':uni_urban/uni_rural\n",
    "    }\n",
    "\n",
    "    useful_data.append(item)"
   ]
  },
  {
   "cell_type": "code",
   "execution_count": 30,
   "metadata": {},
   "outputs": [],
   "source": [
    "df=pd.DataFrame(useful_data)"
   ]
  },
  {
   "cell_type": "markdown",
   "metadata": {},
   "source": [
    "- main thing is how to do p-test for these values"
   ]
  }
 ],
 "metadata": {
  "interpreter": {
   "hash": "365d70965140afb04a698773bfdd31483bc82432b779112c2a78b5de7c16d125"
  },
  "kernelspec": {
   "display_name": "Python 3.8.5 64-bit ('base': conda)",
   "name": "python3"
  },
  "language_info": {
   "codemirror_mode": {
    "name": "ipython",
    "version": 3
   },
   "file_extension": ".py",
   "mimetype": "text/x-python",
   "name": "python",
   "nbconvert_exporter": "python",
   "pygments_lexer": "ipython3",
   "version": "3.8.5"
  },
  "orig_nbformat": 4
 },
 "nbformat": 4,
 "nbformat_minor": 2
}
