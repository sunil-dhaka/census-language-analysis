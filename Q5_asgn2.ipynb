{
 "cells": [
  {
   "cell_type": "markdown",
   "metadata": {},
   "source": [
    "- i have devided age-group(3+) number by whole india/state pop, \n",
    "- I also could have devided by total sum col of 3+ language people \n",
    "- but which one is being asked\n",
    "- should I report statePop devided ratios or totalPop(3+) devided ratios\n",
    "- at least this is clear that the age-group we get won't be affected as highest ratio is scale invariante\n",
    "- I am getting `30-49` age group for all states\n",
    "- if we don't use statePop than census data won't be needed\n",
    "- also que-6 is same with different dataset\n",
    "- should I use state/ut name of just stateCode in these questions?"
   ]
  },
  {
   "cell_type": "code",
   "execution_count": 70,
   "metadata": {},
   "outputs": [],
   "source": [
    "import pandas as pd"
   ]
  },
  {
   "cell_type": "code",
   "execution_count": 71,
   "metadata": {},
   "outputs": [],
   "source": [
    "# for population data\n",
    "cols=['State', 'Level', 'Name', 'TRU', 'No_HH', 'TOT_P', 'TOT_M', 'TOT_F']\n",
    "census=pd.read_excel('datasets/census.xlsx',engine='openpyxl',usecols=cols)\n",
    "censusIndia=census.iloc[0,:]\n",
    "census=census.loc[census.Level=='STATE']\n",
    "census=census.loc[census.TRU=='Total']\n",
    "census=census.append(censusIndia,ignore_index=True)\n",
    "census.sort_values(by=['State'],axis=0,inplace=True)\n",
    "census.reset_index(drop=True,inplace=True)"
   ]
  },
  {
   "cell_type": "code",
   "execution_count": 72,
   "metadata": {},
   "outputs": [],
   "source": [
    "#===================\n",
    "# # a function that just takes state code that does\n",
    "# manipulates and finds appropriate sum\n",
    "# finds total pop fro that state from census data\n",
    "# then returns a nice ratio dictionary\n",
    "#===================\n",
    "\n",
    "def ratioFinder(stateCode):\n",
    "    # 5 is specific to TOT_P\n",
    "    statePop=census.iloc[stateCode,5] \n",
    "    df=pd.read_excel('datasets/C-18.xlsx',skiprows=6,header=None,engine='openpyxl')\n",
    "    df=df.loc[df.iloc[:,0]==stateCode]\n",
    "    # also can use this to devide rather than statePop\n",
    "    # the order should not change\n",
    "    totalPop=int(df.loc[df.iloc[:,3]=='Total'].iloc[0,8])\n",
    "    #print(totalPop)\n",
    "    df=df.loc[df.iloc[:,3]=='Total'].iloc[1:,:]\n",
    "    ageList=df.iloc[:,4].tolist()\n",
    "    highestRatio=0\n",
    "    for i in range(len(ageList)):\n",
    "        ageData={\n",
    "            'state/ut':str(stateCode).zfill(2),\n",
    "            'age-group':ageList[i],\n",
    "            'percentage':(int((df.loc[df.iloc[:,4]==ageList[i]]).iloc[:,8])/totalPop)\n",
    "        }\n",
    "        if max(ageData['percentage'],highestRatio)>highestRatio:\n",
    "            highestRatio=ageData['percentage']\n",
    "            stateRatios=ageData\n",
    "            #print(stateRatios)\n",
    "    #print('Processed state -- ',stateCode)\n",
    "    # to make more readable and comparable quickly rounded to 2 decimal points\n",
    "    stateRatios['percentage']=round(stateRatios['percentage'],2)\n",
    "    return stateRatios\n"
   ]
  },
  {
   "cell_type": "code",
   "execution_count": 73,
   "metadata": {},
   "outputs": [
    {
     "name": "stdout",
     "output_type": "stream",
     "text": [
      "CPU times: user 6.05 s, sys: 3.72 ms, total: 6.06 s\n",
      "Wall time: 6.06 s\n"
     ]
    }
   ],
   "source": [
    "%%time\n",
    "ratioList=[ratioFinder(i) for i in range(0,36)]\n",
    "ratioDF=pd.DataFrame(ratioList)\n",
    "ratioDF.to_csv('outputs/age-india.csv',index=False)"
   ]
  }
 ],
 "metadata": {
  "interpreter": {
   "hash": "365d70965140afb04a698773bfdd31483bc82432b779112c2a78b5de7c16d125"
  },
  "kernelspec": {
   "display_name": "Python 3.8.5 64-bit ('base': conda)",
   "name": "python3"
  },
  "language_info": {
   "codemirror_mode": {
    "name": "ipython",
    "version": 3
   },
   "file_extension": ".py",
   "mimetype": "text/x-python",
   "name": "python",
   "nbconvert_exporter": "python",
   "pygments_lexer": "ipython3",
   "version": "3.8.5"
  },
  "orig_nbformat": 4
 },
 "nbformat": 4,
 "nbformat_minor": 2
}
