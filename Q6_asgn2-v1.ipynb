{
 "cells": [
  {
   "cell_type": "code",
   "execution_count": 7,
   "metadata": {},
   "outputs": [],
   "source": [
    "import pandas as pd"
   ]
  },
  {
   "cell_type": "code",
   "execution_count": 8,
   "metadata": {},
   "outputs": [],
   "source": [
    "c19=pd.read_excel('datasets/C-19.xlsx',skiprows=6,header=None,engine='openpyxl')\n",
    "c19.fillna(0,inplace=True)"
   ]
  },
  {
   "cell_type": "markdown",
   "metadata": {},
   "source": [
    "-Illiterate\n",
    "-literate\n",
    "-Below Primary\n",
    "-primary\n",
    "-Middle\n",
    "-Matric and Secondary+HS+Non tech+Tech as (Matric but below graduate)\n",
    "-Grad and above"
   ]
  },
  {
   "cell_type": "code",
   "execution_count": 9,
   "metadata": {},
   "outputs": [],
   "source": [
    "c08=pd.read_excel('datasets/C-08.xlsx',engine='openpyxl',skiprows=7,header=None)"
   ]
  },
  {
   "cell_type": "markdown",
   "metadata": {},
   "source": [
    "## obtain useful data from C-08 and C-19 for age-groups"
   ]
  },
  {
   "cell_type": "markdown",
   "metadata": {},
   "source": [
    "- formulas used:"
   ]
  },
  {
   "cell_type": "code",
   "execution_count": 10,
   "metadata": {},
   "outputs": [],
   "source": [
    "# STATE_NAMES=[list(np.unique(c18.iloc[:,2].values))]\n",
    "STATE_NAMES=[]\n",
    "for state in c19.iloc[:,2].values:\n",
    "    if not (state in STATE_NAMES) and state!=0:\n",
    "        STATE_NAMES.append(state)\n",
    "\n",
    "# although it is a bit of manual work but it is worth the efforts\n",
    "LITRATE_GROUPS=['Illiterate', 'Literate but below primary', 'Primary but below middle', 'Middle but below matric/secondary', 'Matric/Secondary but below graduate', 'Graduate and above']\n",
    "LITRATE_GROUP_COLS=[[[9]],[[18]],[[21]],[[24]],[[27],[30],[33],[36]],[[39]]]"
   ]
  },
  {
   "cell_type": "code",
   "execution_count": 11,
   "metadata": {},
   "outputs": [
    {
     "data": {
      "text/plain": [
       "447216165"
      ]
     },
     "execution_count": 11,
     "metadata": {},
     "output_type": "execute_result"
    }
   ],
   "source": [
    "c08[(c08.iloc[:,1]==0) & (c08.iloc[:,4]=='Total') & (c08.iloc[:,5]=='All ages')].iloc[0,[9][0]]"
   ]
  },
  {
   "cell_type": "code",
   "execution_count": 12,
   "metadata": {},
   "outputs": [],
   "source": [
    "useful_data=[]\n",
    "for i,state in enumerate(STATE_NAMES):\n",
    "    foo_df=c08[(c08.iloc[:,1]==i) & (c08.iloc[:,4]=='Total') & (c08.iloc[:,5]=='All ages')]\n",
    "    for j,literacy_grp in enumerate(LITRATE_GROUPS):\n",
    "        total_pop=0\n",
    "        for litracy_list in LITRATE_GROUP_COLS[j]:\n",
    "            total_pop+=foo_df.iloc[0,litracy_list[0]]\n",
    "            \n",
    "    \n",
    "        # tri\n",
    "        tri_total=c19[(c19.iloc[:,0]==str(i).zfill(2)) & (c19.iloc[:,4]==literacy_grp) & (c19.iloc[:,3]=='Total')].iloc[0,8]\n",
    "\n",
    "        item={\n",
    "            'state-code':i,\n",
    "            'state-name':state,\n",
    "            'literacy-group':literacy_grp,\n",
    "            'literacy-group-pop':total_pop,\n",
    "            'tri-ratio':tri_total/total_pop,\n",
    "        }\n",
    "\n",
    "        useful_data.append(item)"
   ]
  },
  {
   "cell_type": "code",
   "execution_count": 13,
   "metadata": {},
   "outputs": [],
   "source": [
    "df=pd.DataFrame(useful_data)"
   ]
  },
  {
   "cell_type": "markdown",
   "metadata": {},
   "source": [
    "## 3+ analysis "
   ]
  },
  {
   "cell_type": "code",
   "execution_count": 14,
   "metadata": {},
   "outputs": [],
   "source": [
    "tri_list=[]\n",
    "for i in range(36):\n",
    "    values=df[df['state-code']==i].sort_values(by='tri-ratio',ascending=False).iloc[0,[2,4]].values\n",
    "    tri_item={\n",
    "        'state/ut':STATE_NAMES[i],\n",
    "        'age-group':values[0],\n",
    "        'percentage':round(values[1]*100,2)\n",
    "    }\n",
    "\n",
    "    tri_list.append(tri_item)"
   ]
  },
  {
   "cell_type": "code",
   "execution_count": 15,
   "metadata": {},
   "outputs": [],
   "source": [
    "tri_df=pd.DataFrame(tri_list)"
   ]
  },
  {
   "cell_type": "code",
   "execution_count": 18,
   "metadata": {},
   "outputs": [],
   "source": [
    "tri_df.to_csv('outputs/literacy-india.csv',index=False)"
   ]
  },
  {
   "cell_type": "markdown",
   "metadata": {},
   "source": [
    "## observations\n",
    "\n",
    "- previous version was a bit diverse than this one but it does make more sense in terms of percantange who speaks highest 3+ langs"
   ]
  }
 ],
 "metadata": {
  "interpreter": {
   "hash": "365d70965140afb04a698773bfdd31483bc82432b779112c2a78b5de7c16d125"
  },
  "kernelspec": {
   "display_name": "Python 3.8.5 64-bit ('base': conda)",
   "name": "python3"
  },
  "language_info": {
   "codemirror_mode": {
    "name": "ipython",
    "version": 3
   },
   "file_extension": ".py",
   "mimetype": "text/x-python",
   "name": "python",
   "nbconvert_exporter": "python",
   "pygments_lexer": "ipython3",
   "version": "3.8.5"
  },
  "orig_nbformat": 4
 },
 "nbformat": 4,
 "nbformat_minor": 2
}
