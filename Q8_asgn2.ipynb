{
 "cells": [
  {
   "cell_type": "code",
   "execution_count": 1,
   "metadata": {},
   "outputs": [],
   "source": [
    "import pandas as pd\n",
    "import numpy as np"
   ]
  },
  {
   "cell_type": "code",
   "execution_count": 2,
   "metadata": {},
   "outputs": [],
   "source": [
    "c18=pd.read_excel('datasets/C-18.xlsx',skiprows=6,header=None,engine='openpyxl')"
   ]
  },
  {
   "cell_type": "code",
   "execution_count": 3,
   "metadata": {},
   "outputs": [],
   "source": [
    "c13=pd.read_excel('datasets/C-13.xls',skiprows=7,header=None)"
   ]
  },
  {
   "cell_type": "markdown",
   "metadata": {},
   "source": [
    "## obtain useful data from C-13 and C-18 for age-groups"
   ]
  },
  {
   "cell_type": "markdown",
   "metadata": {},
   "source": [
    "- formulas used:"
   ]
  },
  {
   "cell_type": "code",
   "execution_count": 4,
   "metadata": {},
   "outputs": [],
   "source": [
    "# STATE_NAMES=[list(np.unique(c18.iloc[:,2].values))]\n",
    "STATE_NAMES=[]\n",
    "for state in c18.iloc[:,2].values:\n",
    "    if not (state in STATE_NAMES):\n",
    "        STATE_NAMES.append(state)\n",
    "AGE_GROUPS=list(c18.iloc[1:10,4].values)\n",
    "# although it is a bit of manual work but it is worth the efforts\n",
    "AGE_GROUP_RANGES=[list(range(5,10)),list(range(10,15)),list(range(15,20)),list(range(20,25)),list(range(25,30)),list(range(30,50)),list(range(50,70)),list(range(70,100))+['100+'],['Age not stated']]"
   ]
  },
  {
   "cell_type": "code",
   "execution_count": 5,
   "metadata": {},
   "outputs": [],
   "source": [
    "useful_data=[]\n",
    "for i,state in enumerate(STATE_NAMES):\n",
    "    for j,age_grp in enumerate(AGE_GROUPS):\n",
    "        # this list is to get only the years in the particular age-group\n",
    "\n",
    "        true_false_list=[]\n",
    "        for single_year_age in c13.iloc[:,4].values:\n",
    "            if single_year_age in AGE_GROUP_RANGES[j]:\n",
    "                true_false_list.append(True)\n",
    "            else:\n",
    "                true_false_list.append(False)\n",
    "\n",
    "        # here i is the state code\n",
    "        male_pop=c13[(c13.loc[:,1]==i) & (true_false_list)].iloc[:,6].values.sum()\n",
    "        female_pop=c13[(c13.loc[:,1]==i) & (true_false_list)].iloc[:,7].values.sum()\n",
    "        \n",
    "        # tri\n",
    "        tri_male=c18[(c18.iloc[:,0]==i) & (c18.iloc[:,4]==age_grp) & (c18.iloc[:,3]=='Total')].iloc[0,9]\n",
    "        tri_female=c18[(c18.iloc[:,0]==i) & (c18.iloc[:,4]==age_grp) & (c18.iloc[:,3]=='Total')].iloc[0,10]\n",
    "\n",
    "        #bi\n",
    "        bi_male=c18[(c18.iloc[:,0]==i) & (c18.iloc[:,4]==age_grp) & (c18.iloc[:,3]=='Total')].iloc[0,6] - tri_male\n",
    "        bi_female=c18[(c18.iloc[:,0]==i) & (c18.iloc[:,4]==age_grp) & (c18.iloc[:,3]=='Total')].iloc[0,7] - tri_female\n",
    "\n",
    "        #uni\n",
    "        uni_male=male_pop-bi_male-tri_male\n",
    "        uni_female=female_pop-bi_female-tri_female\n",
    "\n",
    "        item={\n",
    "            'state-code':i,\n",
    "            'state-name':state,\n",
    "            'age-group':age_grp,\n",
    "            'age-group-male-pop':male_pop,\n",
    "            'age-group-female-pop':female_pop,\n",
    "            'tri-male-ratio':tri_male/male_pop,\n",
    "            'tri-female-ratio':tri_female/female_pop,\n",
    "            'bi-male-ratio':bi_male/male_pop,\n",
    "            'bi-female-ratio':bi_female/female_pop,\n",
    "            'uni-male-ratio':uni_male/male_pop,\n",
    "            'uni-female-ratio':uni_female/female_pop\n",
    "        }\n",
    "\n",
    "        useful_data.append(item)"
   ]
  },
  {
   "cell_type": "code",
   "execution_count": 6,
   "metadata": {},
   "outputs": [],
   "source": [
    "df=pd.DataFrame(useful_data)"
   ]
  },
  {
   "cell_type": "markdown",
   "metadata": {},
   "source": [
    "## age-analysis "
   ]
  },
  {
   "cell_type": "code",
   "execution_count": 7,
   "metadata": {},
   "outputs": [],
   "source": [
    "tri_list=[]\n",
    "bi_list=[]\n",
    "uni_list=[]\n",
    "for i in range(36):\n",
    "    male_values=df[df['state-code']==i].sort_values(by='tri-male-ratio',ascending=False).iloc[0,[2,5]].values\n",
    "    female_values=df[df['state-code']==i].sort_values(by='tri-male-ratio',ascending=False).iloc[0,[2,6]].values\n",
    "    tri_item={\n",
    "        'state/ut':STATE_NAMES[i],\n",
    "        'age-group-male':male_values[0],\n",
    "        'ratio-of-3-male':male_values[1],\n",
    "        'age-group-female':female_values[0],\n",
    "        'ratio-of-3-female':female_values[1]\n",
    "    }\n",
    "\n",
    "    tri_list.append(tri_item)\n",
    "\n",
    "    male_values=df[df['state-code']==i].sort_values(by='bi-male-ratio',ascending=False).iloc[0,[2,7]].values\n",
    "    female_values=df[df['state-code']==i].sort_values(by='bi-male-ratio',ascending=False).iloc[0,[2,8]].values\n",
    "    bi_item={\n",
    "        'state/ut':STATE_NAMES[i],\n",
    "        'age-group-male':male_values[0],\n",
    "        'ratio-of-2-male':male_values[1],\n",
    "        'age-group-female':female_values[0],\n",
    "        'ratio-of-2-female':female_values[1]\n",
    "    }\n",
    "\n",
    "    bi_list.append(bi_item)\n",
    "\n",
    "    male_values=df[df['state-code']==i].sort_values(by='uni-male-ratio',ascending=False).iloc[0,[2,9]].values\n",
    "    female_values=df[df['state-code']==i].sort_values(by='uni-male-ratio',ascending=False).iloc[0,[2,10]].values\n",
    "    uni_item={\n",
    "        'state/ut':STATE_NAMES[i],\n",
    "        'age-group-male':male_values[0],\n",
    "        'ratio-of-1-male':male_values[1],\n",
    "        'age-group-female':female_values[0],\n",
    "        'ratio-of-1-female':female_values[1]\n",
    "    }\n",
    "\n",
    "    uni_list.append(uni_item)"
   ]
  },
  {
   "cell_type": "code",
   "execution_count": 8,
   "metadata": {},
   "outputs": [],
   "source": [
    "tri_df=pd.DataFrame(tri_list)\n",
    "bi_df=pd.DataFrame(bi_list)\n",
    "uni_df=pd.DataFrame(uni_list)"
   ]
  },
  {
   "cell_type": "code",
   "execution_count": 9,
   "metadata": {},
   "outputs": [],
   "source": [
    "tri_df.to_csv('outputs/age-gender-3.csv',index=False)\n",
    "bi_df.to_csv('outputs/age-gender-2.csv',index=False)\n",
    "uni_df.to_csv('outputs/age-gender-1.csv',index=False)"
   ]
  },
  {
   "cell_type": "markdown",
   "metadata": {},
   "source": [
    "## observations\n",
    "\n",
    "- in almost all cases both highest ratio female and male age-groups are same.\n",
    "- interestingly in only one language case for all states '5-9' age group dominates, and it is also quite intutive; since at that early stage in life children only speak their mother toung only "
   ]
  }
 ],
 "metadata": {
  "interpreter": {
   "hash": "365d70965140afb04a698773bfdd31483bc82432b779112c2a78b5de7c16d125"
  },
  "kernelspec": {
   "display_name": "Python 3.8.5 64-bit ('base': conda)",
   "name": "python3"
  },
  "language_info": {
   "codemirror_mode": {
    "name": "ipython",
    "version": 3
   },
   "file_extension": ".py",
   "mimetype": "text/x-python",
   "name": "python",
   "nbconvert_exporter": "python",
   "pygments_lexer": "ipython3",
   "version": "3.8.5"
  },
  "orig_nbformat": 4
 },
 "nbformat": 4,
 "nbformat_minor": 2
}
