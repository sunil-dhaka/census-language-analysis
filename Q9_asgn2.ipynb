{
 "cells": [
  {
   "cell_type": "code",
   "execution_count": 84,
   "metadata": {},
   "outputs": [],
   "source": [
    "import pandas as pd\n",
    "import numpy as np"
   ]
  },
  {
   "cell_type": "code",
   "execution_count": 85,
   "metadata": {},
   "outputs": [],
   "source": [
    "c19=pd.read_excel('datasets/C-19.xlsx',skiprows=6,header=None,engine='openpyxl')\n",
    "c19.fillna(0,inplace=True)"
   ]
  },
  {
   "cell_type": "markdown",
   "metadata": {},
   "source": [
    "-Illiterate\n",
    "-literate\n",
    "-Below Primary\n",
    "-primary\n",
    "-Middle\n",
    "-Matric and Secondary+HS+Non tech+Tech as (Matric but below graduate)\n",
    "-Grad and above"
   ]
  },
  {
   "cell_type": "code",
   "execution_count": 86,
   "metadata": {},
   "outputs": [],
   "source": [
    "c08=pd.read_excel('datasets/C-08.xlsx',engine='openpyxl',skiprows=7,header=None)"
   ]
  },
  {
   "cell_type": "markdown",
   "metadata": {},
   "source": [
    "## obtain useful data from C-08 and C-19 for age-groups"
   ]
  },
  {
   "cell_type": "markdown",
   "metadata": {},
   "source": [
    "- formulas used:"
   ]
  },
  {
   "cell_type": "code",
   "execution_count": 87,
   "metadata": {},
   "outputs": [],
   "source": [
    "# STATE_NAMES=[list(np.unique(c18.iloc[:,2].values))]\n",
    "STATE_NAMES=[]\n",
    "for state in c19.iloc[:,2].values:\n",
    "    if not (state in STATE_NAMES) and state!=0:\n",
    "        STATE_NAMES.append(state)\n",
    "\n",
    "# although it is a bit of manual work but it is worth the efforts\n",
    "LITRATE_GROUPS=['Illiterate', 'Literate but below primary', 'Primary but below middle', 'Middle but below matric/secondary', 'Matric/Secondary but below graduate', 'Graduate and above']\n",
    "LITRATE_GROUP_COLS=[[[10,11]],[[19,20]],[[22,23]],[[25,26]],[[28,29],[31,32],[34,35],[37,38]],[[40,41]]]"
   ]
  },
  {
   "cell_type": "code",
   "execution_count": 88,
   "metadata": {},
   "outputs": [
    {
     "name": "stdout",
     "output_type": "stream",
     "text": [
      "11\n",
      "20\n",
      "23\n",
      "26\n",
      "29\n",
      "32\n",
      "35\n",
      "38\n",
      "41\n"
     ]
    }
   ],
   "source": [
    "for j in range(6):\n",
    "    for litracy_list in LITRATE_GROUP_COLS[j]:\n",
    "        print(litracy_list[1])"
   ]
  },
  {
   "cell_type": "code",
   "execution_count": 89,
   "metadata": {},
   "outputs": [
    {
     "data": {
      "text/plain": [
       "258709529"
      ]
     },
     "execution_count": 89,
     "metadata": {},
     "output_type": "execute_result"
    }
   ],
   "source": [
    "c08[(c08.iloc[:,1]==0) & (c08.iloc[:,4]=='Total') & (c08.iloc[:,5]=='All ages')].iloc[0,[10,11][1]]"
   ]
  },
  {
   "cell_type": "code",
   "execution_count": 90,
   "metadata": {},
   "outputs": [],
   "source": [
    "useful_data=[]\n",
    "for i,state in enumerate(STATE_NAMES):\n",
    "    foo_df=c08[(c08.iloc[:,1]==i) & (c08.iloc[:,4]=='Total') & (c08.iloc[:,5]=='All ages')]\n",
    "    for j,litracy_grp in enumerate(LITRATE_GROUPS):\n",
    "        male_pop=0\n",
    "        female_pop=0\n",
    "        for litracy_list in LITRATE_GROUP_COLS[j]:\n",
    "            male_pop+=foo_df.iloc[0,litracy_list[0]]\n",
    "            female_pop+=foo_df.iloc[0,litracy_list[1]]\n",
    "    \n",
    "        # tri\n",
    "        tri_male=c19[(c19.iloc[:,0]==str(i).zfill(2)) & (c19.iloc[:,4]==litracy_grp) & (c19.iloc[:,3]=='Total')].iloc[0,9]\n",
    "        tri_female=c19[(c19.iloc[:,0]==str(i).zfill(2)) & (c19.iloc[:,4]==litracy_grp) & (c19.iloc[:,3]=='Total')].iloc[0,10]\n",
    "\n",
    "        #bi\n",
    "        bi_male=c19[(c19.iloc[:,0]==str(i).zfill(2)) & (c19.iloc[:,4]==litracy_grp) & (c19.iloc[:,3]=='Total')].iloc[0,6] - tri_male\n",
    "        bi_female=c19[(c19.iloc[:,0]==str(i).zfill(2)) & (c19.iloc[:,4]==litracy_grp) & (c19.iloc[:,3]=='Total')].iloc[0,7] - tri_female\n",
    "\n",
    "        #uni\n",
    "        uni_male=male_pop-bi_male-tri_male\n",
    "        uni_female=female_pop-bi_female-tri_female\n",
    "\n",
    "        item={\n",
    "            'state-code':i,\n",
    "            'state-name':state,\n",
    "            'litracy-group':litracy_grp,\n",
    "            'litracy-group-male-pop':male_pop,\n",
    "            'litracy-group-female-pop':female_pop,\n",
    "            'tri-male-ratio':tri_male/male_pop,\n",
    "            'tri-female-ratio':tri_female/female_pop,\n",
    "            'bi-male-ratio':bi_male/male_pop,\n",
    "            'bi-female-ratio':bi_female/female_pop,\n",
    "            'uni-male-ratio':uni_male/male_pop,\n",
    "            'uni-female-ratio':uni_female/female_pop\n",
    "        }\n",
    "\n",
    "        useful_data.append(item)"
   ]
  },
  {
   "cell_type": "code",
   "execution_count": 91,
   "metadata": {},
   "outputs": [],
   "source": [
    "df=pd.DataFrame(useful_data)"
   ]
  },
  {
   "cell_type": "markdown",
   "metadata": {},
   "source": [
    "## 3+ "
   ]
  },
  {
   "cell_type": "code",
   "execution_count": 92,
   "metadata": {},
   "outputs": [],
   "source": [
    "tri_list=[]\n",
    "bi_list=[]\n",
    "uni_list=[]\n",
    "for i in range(36):\n",
    "    male_values=df[df['state-code']==i].sort_values(by='tri-male-ratio',ascending=False).iloc[0,[2,5]].values\n",
    "    female_values=df[df['state-code']==i].sort_values(by='tri-male-ratio',ascending=False).iloc[0,[2,6]].values\n",
    "    tri_item={\n",
    "        'state/ut':STATE_NAMES[i],\n",
    "        'litracy-group-male':male_values[0],\n",
    "        'ratio-of-3-male':male_values[1],\n",
    "        'litracy-group-female':female_values[0],\n",
    "        'ratio-of-3-female':female_values[1]\n",
    "    }\n",
    "\n",
    "    tri_list.append(tri_item)\n",
    "\n",
    "    male_values=df[df['state-code']==i].sort_values(by='bi-male-ratio',ascending=False).iloc[0,[2,7]].values\n",
    "    female_values=df[df['state-code']==i].sort_values(by='bi-male-ratio',ascending=False).iloc[0,[2,8]].values\n",
    "    bi_item={\n",
    "        'state/ut':STATE_NAMES[i],\n",
    "        'litracy-group-male':male_values[0],\n",
    "        'ratio-of-2-male':male_values[1],\n",
    "        'litracy-group-female':female_values[0],\n",
    "        'ratio-of-2-female':female_values[1]\n",
    "    }\n",
    "\n",
    "    bi_list.append(bi_item)\n",
    "\n",
    "    male_values=df[df['state-code']==i].sort_values(by='uni-male-ratio',ascending=False).iloc[0,[2,9]].values\n",
    "    female_values=df[df['state-code']==i].sort_values(by='uni-male-ratio',ascending=False).iloc[0,[2,10]].values\n",
    "    uni_item={\n",
    "        'state/ut':STATE_NAMES[i],\n",
    "        'litracy-group-male':male_values[0],\n",
    "        'ratio-of-1-male':male_values[1],\n",
    "        'litracy-group-female':female_values[0],\n",
    "        'ratio-of-1-female':female_values[1]\n",
    "    }\n",
    "\n",
    "    uni_list.append(uni_item)"
   ]
  },
  {
   "cell_type": "code",
   "execution_count": 93,
   "metadata": {},
   "outputs": [],
   "source": [
    "tri_df=pd.DataFrame(tri_list)\n",
    "bi_df=pd.DataFrame(bi_list)\n",
    "uni_df=pd.DataFrame(uni_list)"
   ]
  },
  {
   "cell_type": "code",
   "execution_count": 94,
   "metadata": {},
   "outputs": [],
   "source": [
    "tri_df.to_csv('outputs/litracy-gender-3.csv',index=False)\n",
    "bi_df.to_csv('outputs/litracy-gender-2.csv',index=False)\n",
    "uni_df.to_csv('outputs/litracy-gender-1.csv',index=False)"
   ]
  },
  {
   "cell_type": "markdown",
   "metadata": {},
   "source": [
    "## observations\n",
    "\n",
    "- in almost all cases both highest ratio female and male age-groups are same.\n",
    "- interestingly in more than three language case for all states 'graduate and above' literacy group dominates, and it is also quite intutive; since they are more aducated and most of them speak more than 3+ langs "
   ]
  }
 ],
 "metadata": {
  "interpreter": {
   "hash": "365d70965140afb04a698773bfdd31483bc82432b779112c2a78b5de7c16d125"
  },
  "kernelspec": {
   "display_name": "Python 3.8.5 64-bit ('base': conda)",
   "name": "python3"
  },
  "language_info": {
   "codemirror_mode": {
    "name": "ipython",
    "version": 3
   },
   "file_extension": ".py",
   "mimetype": "text/x-python",
   "name": "python",
   "nbconvert_exporter": "python",
   "pygments_lexer": "ipython3",
   "version": "3.8.5"
  },
  "orig_nbformat": 4
 },
 "nbformat": 4,
 "nbformat_minor": 2
}
