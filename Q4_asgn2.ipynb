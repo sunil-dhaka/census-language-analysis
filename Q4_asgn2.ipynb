{
 "cells": [
  {
   "cell_type": "markdown",
   "metadata": {},
   "source": [
    "## import modules"
   ]
  },
  {
   "cell_type": "code",
   "execution_count": 34,
   "metadata": {},
   "outputs": [],
   "source": [
    "import pandas as pd"
   ]
  },
  {
   "cell_type": "markdown",
   "metadata": {},
   "source": [
    "## pre-process census dataset"
   ]
  },
  {
   "cell_type": "code",
   "execution_count": 35,
   "metadata": {},
   "outputs": [],
   "source": [
    "\n",
    "# for population data\n",
    "cols=['State', 'Level', 'Name', 'TRU', 'No_HH', 'TOT_P', 'TOT_M', 'TOT_F']\n",
    "census=pd.read_excel('datasets/census.xlsx',engine='openpyxl',usecols=cols)\n",
    "censusIndia=census.iloc[0,:]\n",
    "census=census.loc[census.Level=='STATE']\n",
    "census=census.loc[census.TRU=='Total']\n",
    "census=census.append(censusIndia,ignore_index=True)\n",
    "census.sort_values(by=['State'],axis=0,inplace=True)\n",
    "census.reset_index(drop=True,inplace=True)"
   ]
  },
  {
   "cell_type": "markdown",
   "metadata": {},
   "source": [
    "## repeat of Q1 func \n",
    "- with slight modification \n",
    "- I have used Q1 function but here I am using ratios rather than percent as ratios are asked in the question\n",
    "\n",
    "**`NOTE:`** I have not sorted output file by first col; since this question asks for particular sorting. I have outputed files according to that."
   ]
  },
  {
   "cell_type": "code",
   "execution_count": 36,
   "metadata": {},
   "outputs": [],
   "source": [
    "#===================\n",
    "# # a function that just takes state code that does\n",
    "# manipulates and finds appropriate sum\n",
    "# finds total pop fro that state from census data\n",
    "# then returns a nice ratio dictionary\n",
    "#===================\n",
    "\n",
    "def ratioFinder(stateCode):\n",
    "    # 5 is specific to TOT_P\n",
    "    statePop=census.iloc[stateCode,5] \n",
    "    # modify state code\n",
    "    stateCode=str(stateCode).zfill(2)\n",
    "    # read df from file\n",
    "    df=pd.read_excel(f'datasets/C-17/{stateCode}.xlsx',skiprows=6,header=None,engine='openpyxl')\n",
    "    df.fillna(value=0,inplace=True)\n",
    "    # find total no \n",
    "    # note: these col numbers are specific to df #\n",
    "    total3=sum(df.iloc[:,14].tolist())\n",
    "    total2=sum(df.iloc[:,9].tolist())-total3 # need to remove total3 as itself is of 2+ language(that also includes 3+ lang persons) speakers\n",
    "    total1=sum(df.iloc[:,4].tolist())-total2-total3 # as previously I was double substracting 3+ persons I was getting negative number for that\n",
    "    # doing -toatal3 because total2 has been modified above with toatl3 being substracted\n",
    "    ratio_1=total1/statePop # not rounded\n",
    "    ratio_2=total2/statePop # not rounded\n",
    "    ratio_3=total3/statePop # not rounded\n",
    "    #store ratios in a dict\n",
    "    stateRatios={\n",
    "        'state-code':stateCode,\n",
    "        'ratio-one':ratio_1,\n",
    "        'ratio-two':ratio_2,\n",
    "        'ratio-three':ratio_3,\n",
    "    }\n",
    "    #print('Processed state -- ',stateCode)\n",
    "    return stateRatios\n"
   ]
  },
  {
   "cell_type": "code",
   "execution_count": 37,
   "metadata": {},
   "outputs": [
    {
     "name": "stdout",
     "output_type": "stream",
     "text": [
      "CPU times: user 19.8 s, sys: 32 ms, total: 19.8 s\n",
      "Wall time: 19.8 s\n"
     ]
    }
   ],
   "source": [
    "%%time\n",
    "ratioList=[ratioFinder(i) for i in range(0,36)]\n",
    "ratioDF=pd.DataFrame(ratioList)"
   ]
  },
  {
   "cell_type": "markdown",
   "metadata": {},
   "source": [
    "### `NOTE:`\n",
    "- I have included ratios and percent of population in columns of output for information about worst and best state ratios\n",
    "- also when rounding ratios it gives different(and wrong) states in answer since ratios are quite close for many states; So i have not rounded them for accuracy purposes  "
   ]
  },
  {
   "cell_type": "markdown",
   "metadata": {},
   "source": [
    "## 2-to-1-ratio part\n",
    "### sort and store\n",
    "- sort values as per ratio[top three] and store them into CSV files"
   ]
  },
  {
   "cell_type": "code",
   "execution_count": 38,
   "metadata": {},
   "outputs": [
    {
     "name": "stderr",
     "output_type": "stream",
     "text": [
      "/tmp/ipykernel_81045/2995019099.py:7: SettingWithCopyWarning: \n",
      "A value is trying to be set on a copy of a slice from a DataFrame\n",
      "\n",
      "See the caveats in the documentation: https://pandas.pydata.org/pandas-docs/stable/user_guide/indexing.html#returning-a-view-versus-a-copy\n",
      "  worstStates.sort_values('2-to-1-ratio',axis=0,ascending=True,inplace=True)\n"
     ]
    }
   ],
   "source": [
    "ratioDF21=ratioDF.drop(['ratio-three'],axis=1)\n",
    "ratioDF21['2-to-1-ratio']=ratioDF21['ratio-two']/ratioDF21['ratio-one']\n",
    "ratioDF21.sort_values('2-to-1-ratio',inplace=True,axis=0,ascending=False)\n",
    "#print(ratioDF21)\n",
    "bestStates=ratioDF21.iloc[:3,:]\n",
    "worstStates=ratioDF21.iloc[-3:,:]\n",
    "worstStates.sort_values('2-to-1-ratio',axis=0,ascending=True,inplace=True)\n",
    "bestWorstDF=pd.concat([bestStates,worstStates],axis=0)\n",
    "#as que asks for specific ordering\n",
    "#print(bestWorstDF)\n",
    "bestWorstDF.to_csv('outputs/2-to-1-ratio.csv',index=False)"
   ]
  },
  {
   "cell_type": "code",
   "execution_count": 39,
   "metadata": {},
   "outputs": [
    {
     "data": {
      "text/html": [
       "<div>\n",
       "<style scoped>\n",
       "    .dataframe tbody tr th:only-of-type {\n",
       "        vertical-align: middle;\n",
       "    }\n",
       "\n",
       "    .dataframe tbody tr th {\n",
       "        vertical-align: top;\n",
       "    }\n",
       "\n",
       "    .dataframe thead th {\n",
       "        text-align: right;\n",
       "    }\n",
       "</style>\n",
       "<table border=\"1\" class=\"dataframe\">\n",
       "  <thead>\n",
       "    <tr style=\"text-align: right;\">\n",
       "      <th></th>\n",
       "      <th>state-code</th>\n",
       "      <th>ratio-one</th>\n",
       "      <th>ratio-two</th>\n",
       "      <th>2-to-1-ratio</th>\n",
       "    </tr>\n",
       "  </thead>\n",
       "  <tbody>\n",
       "    <tr>\n",
       "      <th>35</th>\n",
       "      <td>35</td>\n",
       "      <td>0.323600</td>\n",
       "      <td>0.485355</td>\n",
       "      <td>1.499862</td>\n",
       "    </tr>\n",
       "    <tr>\n",
       "      <th>30</th>\n",
       "      <td>30</td>\n",
       "      <td>0.227894</td>\n",
       "      <td>0.263895</td>\n",
       "      <td>1.157976</td>\n",
       "    </tr>\n",
       "    <tr>\n",
       "      <th>12</th>\n",
       "      <td>12</td>\n",
       "      <td>0.359740</td>\n",
       "      <td>0.337779</td>\n",
       "      <td>0.938953</td>\n",
       "    </tr>\n",
       "    <tr>\n",
       "      <th>8</th>\n",
       "      <td>08</td>\n",
       "      <td>0.890979</td>\n",
       "      <td>0.094334</td>\n",
       "      <td>0.105877</td>\n",
       "    </tr>\n",
       "    <tr>\n",
       "      <th>9</th>\n",
       "      <td>09</td>\n",
       "      <td>0.885525</td>\n",
       "      <td>0.101535</td>\n",
       "      <td>0.114661</td>\n",
       "    </tr>\n",
       "    <tr>\n",
       "      <th>22</th>\n",
       "      <td>22</td>\n",
       "      <td>0.867520</td>\n",
       "      <td>0.115938</td>\n",
       "      <td>0.133643</td>\n",
       "    </tr>\n",
       "  </tbody>\n",
       "</table>\n",
       "</div>"
      ],
      "text/plain": [
       "   state-code  ratio-one  ratio-two  2-to-1-ratio\n",
       "35         35   0.323600   0.485355      1.499862\n",
       "30         30   0.227894   0.263895      1.157976\n",
       "12         12   0.359740   0.337779      0.938953\n",
       "8          08   0.890979   0.094334      0.105877\n",
       "9          09   0.885525   0.101535      0.114661\n",
       "22         22   0.867520   0.115938      0.133643"
      ]
     },
     "execution_count": 39,
     "metadata": {},
     "output_type": "execute_result"
    }
   ],
   "source": [
    "# for 2-to-1-ratio\n",
    "bestWorstDF"
   ]
  },
  {
   "cell_type": "markdown",
   "metadata": {},
   "source": [
    "## 3-to-2-ratio part\n",
    "### sort and store\n",
    "- sort values as per ratio[top three] and store them into CSV files"
   ]
  },
  {
   "cell_type": "code",
   "execution_count": 40,
   "metadata": {},
   "outputs": [
    {
     "name": "stderr",
     "output_type": "stream",
     "text": [
      "/tmp/ipykernel_81045/2545202312.py:7: SettingWithCopyWarning: \n",
      "A value is trying to be set on a copy of a slice from a DataFrame\n",
      "\n",
      "See the caveats in the documentation: https://pandas.pydata.org/pandas-docs/stable/user_guide/indexing.html#returning-a-view-versus-a-copy\n",
      "  worstStates.sort_values('3-to-2-ratio',axis=0,ascending=True,inplace=True)\n"
     ]
    }
   ],
   "source": [
    "ratioDF32=ratioDF.drop(['ratio-one'],axis=1)\n",
    "ratioDF32['3-to-2-ratio']=ratioDF32['ratio-three']/ratioDF32['ratio-two']\n",
    "ratioDF32.sort_values('3-to-2-ratio',inplace=True,axis=0,ascending=False)\n",
    "#print(ratioDF32)\n",
    "bestStates=ratioDF32.iloc[:3,:]\n",
    "worstStates=ratioDF32.iloc[-3:,:]\n",
    "worstStates.sort_values('3-to-2-ratio',axis=0,ascending=True,inplace=True)\n",
    "bestWorstDF=pd.concat([bestStates,worstStates],axis=0)\n",
    "#as que asks for specific ordering\n",
    "#print(bestWorstDF)\n",
    "bestWorstDF.to_csv('outputs/3-to-2-ratio.csv',index=False)"
   ]
  },
  {
   "cell_type": "code",
   "execution_count": 41,
   "metadata": {},
   "outputs": [
    {
     "data": {
      "text/html": [
       "<div>\n",
       "<style scoped>\n",
       "    .dataframe tbody tr th:only-of-type {\n",
       "        vertical-align: middle;\n",
       "    }\n",
       "\n",
       "    .dataframe tbody tr th {\n",
       "        vertical-align: top;\n",
       "    }\n",
       "\n",
       "    .dataframe thead th {\n",
       "        text-align: right;\n",
       "    }\n",
       "</style>\n",
       "<table border=\"1\" class=\"dataframe\">\n",
       "  <thead>\n",
       "    <tr style=\"text-align: right;\">\n",
       "      <th></th>\n",
       "      <th>state-code</th>\n",
       "      <th>ratio-two</th>\n",
       "      <th>ratio-three</th>\n",
       "      <th>3-to-2-ratio</th>\n",
       "    </tr>\n",
       "  </thead>\n",
       "  <tbody>\n",
       "    <tr>\n",
       "      <th>30</th>\n",
       "      <td>30</td>\n",
       "      <td>0.263895</td>\n",
       "      <td>0.508211</td>\n",
       "      <td>1.925807</td>\n",
       "    </tr>\n",
       "    <tr>\n",
       "      <th>3</th>\n",
       "      <td>03</td>\n",
       "      <td>0.187624</td>\n",
       "      <td>0.282227</td>\n",
       "      <td>1.504216</td>\n",
       "    </tr>\n",
       "    <tr>\n",
       "      <th>4</th>\n",
       "      <td>04</td>\n",
       "      <td>0.244390</td>\n",
       "      <td>0.305063</td>\n",
       "      <td>1.248266</td>\n",
       "    </tr>\n",
       "    <tr>\n",
       "      <th>10</th>\n",
       "      <td>10</td>\n",
       "      <td>0.144854</td>\n",
       "      <td>0.016163</td>\n",
       "      <td>0.111582</td>\n",
       "    </tr>\n",
       "    <tr>\n",
       "      <th>5</th>\n",
       "      <td>05</td>\n",
       "      <td>0.155650</td>\n",
       "      <td>0.018622</td>\n",
       "      <td>0.119637</td>\n",
       "    </tr>\n",
       "    <tr>\n",
       "      <th>9</th>\n",
       "      <td>09</td>\n",
       "      <td>0.101535</td>\n",
       "      <td>0.012940</td>\n",
       "      <td>0.127448</td>\n",
       "    </tr>\n",
       "  </tbody>\n",
       "</table>\n",
       "</div>"
      ],
      "text/plain": [
       "   state-code  ratio-two  ratio-three  3-to-2-ratio\n",
       "30         30   0.263895     0.508211      1.925807\n",
       "3          03   0.187624     0.282227      1.504216\n",
       "4          04   0.244390     0.305063      1.248266\n",
       "10         10   0.144854     0.016163      0.111582\n",
       "5          05   0.155650     0.018622      0.119637\n",
       "9          09   0.101535     0.012940      0.127448"
      ]
     },
     "execution_count": 41,
     "metadata": {},
     "output_type": "execute_result"
    }
   ],
   "source": [
    "# for 3-to-2-ratio\n",
    "bestWorstDF"
   ]
  },
  {
   "cell_type": "markdown",
   "metadata": {},
   "source": [
    "## observations\n",
    "- notice that state `30` comes in best states in both ratios; meaning it has more population speaking more than one language. It was one of the states which had more 3+ language speaking pop than only one or  exactly two language speaking pop in Q1 \n",
    "- also notice that state `9` comes in worst states in both ratios"
   ]
  }
 ],
 "metadata": {
  "interpreter": {
   "hash": "365d70965140afb04a698773bfdd31483bc82432b779112c2a78b5de7c16d125"
  },
  "kernelspec": {
   "display_name": "Python 3.8.5 64-bit ('base': conda)",
   "name": "python3"
  },
  "language_info": {
   "codemirror_mode": {
    "name": "ipython",
    "version": 3
   },
   "file_extension": ".py",
   "mimetype": "text/x-python",
   "name": "python",
   "nbconvert_exporter": "python",
   "pygments_lexer": "ipython3",
   "version": "3.8.5"
  },
  "orig_nbformat": 4
 },
 "nbformat": 4,
 "nbformat_minor": 2
}
