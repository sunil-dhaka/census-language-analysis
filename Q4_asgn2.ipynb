{
 "cells": [
  {
   "cell_type": "markdown",
   "metadata": {},
   "source": [
    "- state 8,9(in-worst),30(in-best) come in both ratios\n",
    "- have reverser sorted worstStates\n",
    "- Doubt is:\n",
    "    - should I only report statecodes without ant ratios and their ratio21/32 in csv output file\n",
    "    - what should be the col names"
   ]
  },
  {
   "cell_type": "code",
   "execution_count": null,
   "metadata": {},
   "outputs": [],
   "source": [
    "import pandas as pd"
   ]
  },
  {
   "cell_type": "code",
   "execution_count": null,
   "metadata": {},
   "outputs": [],
   "source": [
    "\n",
    "# for population data\n",
    "cols=['State', 'Level', 'Name', 'TRU', 'No_HH', 'TOT_P', 'TOT_M', 'TOT_F']\n",
    "census=pd.read_excel('datasets/census.xlsx',engine='openpyxl',usecols=cols)\n",
    "censusIndia=census.iloc[0,:]\n",
    "census=census.loc[census.Level=='STATE']\n",
    "census=census.loc[census.TRU=='Total']\n",
    "census=census.append(censusIndia,ignore_index=True)\n",
    "census.sort_values(by=['State'],axis=0,inplace=True)\n",
    "census.reset_index(drop=True,inplace=True)"
   ]
  },
  {
   "cell_type": "code",
   "execution_count": null,
   "metadata": {},
   "outputs": [],
   "source": [
    "#===================\n",
    "# # a function that just takes state code that does\n",
    "# manipulates and finds appropriate sum\n",
    "# finds total pop fro that state from census data\n",
    "# then returns a nice ratio dictionary\n",
    "#===================\n",
    "\n",
    "def ratioFinder(stateCode):\n",
    "    # 5 is specific to TOT_P\n",
    "    statePop=census.iloc[stateCode,5] \n",
    "    # modify state code\n",
    "    stateCode=str(stateCode).zfill(2)\n",
    "    # read df from file\n",
    "    df=pd.read_excel(f'datasets/C-17/{stateCode}.xlsx',skiprows=6,header=None,engine='openpyxl')\n",
    "    df.fillna(value=0,inplace=True)\n",
    "    # find total no \n",
    "    # note: these col numbers are specific to df #\n",
    "    total3=sum(df.iloc[:,14].tolist())\n",
    "    total2=sum(df.iloc[:,9].tolist())-total3 # need to remove total3 as itself is of 2+ language(that also includes 3+ lang persons) speakers\n",
    "    total1=sum(df.iloc[:,4].tolist())-total2-total3 # as previously I was double substracting 3+ persons I was getting negative number for that\n",
    "    # doing -toatal3 because total2 has been modified above with toatl3 being substracted\n",
    "    ratio_1=round(total1/statePop,2)\n",
    "    ratio_2=round(total2/statePop,2)\n",
    "    ratio_3=round(total3/statePop,2)\n",
    "    #store ratios in a dict\n",
    "    stateRatios={\n",
    "        'StateCode':stateCode,\n",
    "        'ratio-1':ratio_1,\n",
    "        'ratio-2':ratio_2,\n",
    "        'ratio-3':ratio_3,\n",
    "    }\n",
    "    #print('Processed state -- ',stateCode)\n",
    "    return stateRatios\n"
   ]
  },
  {
   "cell_type": "code",
   "execution_count": null,
   "metadata": {},
   "outputs": [],
   "source": [
    "%%time\n",
    "ratioList=[ratioFinder(i) for i in range(0,36)]\n",
    "ratioDF=pd.DataFrame(ratioList)"
   ]
  },
  {
   "cell_type": "code",
   "execution_count": null,
   "metadata": {},
   "outputs": [],
   "source": [
    "ratioDF21=ratioDF.drop(['ratio-3'],axis=1)\n",
    "ratioDF21['ratio21']=ratioDF21['ratio-2']/ratioDF21['ratio-1']\n",
    "ratioDF21.sort_values('ratio21',inplace=True,axis=0,ascending=False)\n",
    "#print(ratioDF21)\n",
    "bestStates=ratioDF21.iloc[:3,:]\n",
    "worstStates=ratioDF21.iloc[-3:,:]\n",
    "worstStates.sort_values('ratio21',axis=0,ascending=True,inplace=True)\n",
    "bestWorstDF=pd.concat([bestStates,worstStates],axis=0)\n",
    "#as que asks for specific ordering\n",
    "#print(bestWorstDF)\n",
    "bestWorstDF.to_csv('2-to-1-ratio.csv',index=False)"
   ]
  },
  {
   "cell_type": "code",
   "execution_count": null,
   "metadata": {},
   "outputs": [],
   "source": [
    "ratioDF32=ratioDF.drop(['ratio-1'],axis=1)\n",
    "ratioDF32['ratio32']=ratioDF32['ratio-3']/ratioDF32['ratio-2']\n",
    "ratioDF32.sort_values('ratio32',inplace=True,axis=0,ascending=False)\n",
    "#print(ratioDF32)\n",
    "bestStates=ratioDF32.iloc[:3,:]\n",
    "worstStates=ratioDF32.iloc[-3:,:]\n",
    "worstStates.sort_values('ratio32',axis=0,ascending=True,inplace=True)\n",
    "bestWorstDF=pd.concat([bestStates,worstStates],axis=0)\n",
    "#as que asks for specific ordering\n",
    "#print(bestWorstDF)\n",
    "bestWorstDF.to_csv('3-to-2-ratio.csv',index=False)"
   ]
  }
 ],
 "metadata": {
  "interpreter": {
   "hash": "365d70965140afb04a698773bfdd31483bc82432b779112c2a78b5de7c16d125"
  },
  "kernelspec": {
   "display_name": "Python 3.8.5 64-bit ('base': conda)",
   "name": "python3"
  },
  "language_info": {
   "codemirror_mode": {
    "name": "ipython",
    "version": 3
   },
   "file_extension": ".py",
   "mimetype": "text/x-python",
   "name": "python",
   "nbconvert_exporter": "python",
   "pygments_lexer": "ipython3",
   "version": "3.8.5"
  },
  "orig_nbformat": 4
 },
 "nbformat": 4,
 "nbformat_minor": 2
}
