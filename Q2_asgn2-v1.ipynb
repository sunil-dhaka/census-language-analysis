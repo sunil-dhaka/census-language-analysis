{
 "cells": [
  {
   "cell_type": "markdown",
   "metadata": {},
   "source": [
    "## import modules"
   ]
  },
  {
   "cell_type": "code",
   "execution_count": 1,
   "metadata": {},
   "outputs": [],
   "source": [
    "import pandas as pd\n",
    "from scipy import stats\n",
    "import numpy as np"
   ]
  },
  {
   "cell_type": "markdown",
   "metadata": {},
   "source": [
    "## census data processing"
   ]
  },
  {
   "cell_type": "code",
   "execution_count": 2,
   "metadata": {},
   "outputs": [],
   "source": [
    "# for population data\n",
    "cols=['State', 'Level', 'Name', 'TRU', 'No_HH', 'TOT_P', 'TOT_M', 'TOT_F']\n",
    "census=pd.read_excel('datasets/census.xlsx',engine='openpyxl',usecols=cols)\n",
    "censusIndia=census.iloc[0,:]\n",
    "census=census.loc[(census.Level=='STATE') & (census.TRU=='Total')]\n",
    "census=census.append(censusIndia,ignore_index=True)\n",
    "census.sort_values(by=['State'],axis=0,inplace=True)\n",
    "census.reset_index(drop=True,inplace=True)"
   ]
  },
  {
   "cell_type": "markdown",
   "metadata": {},
   "source": [
    "## male-to-female"
   ]
  },
  {
   "cell_type": "code",
   "execution_count": 4,
   "metadata": {},
   "outputs": [],
   "source": [
    "c18=pd.read_excel('datasets/C-18.xlsx',engine='openpyxl',skiprows=6,header=None)"
   ]
  },
  {
   "cell_type": "code",
   "execution_count": 5,
   "metadata": {},
   "outputs": [],
   "source": [
    "STATE_NAMES=[]\n",
    "for state in c18.iloc[:,2].values:\n",
    "    if not (state in STATE_NAMES):\n",
    "        STATE_NAMES.append(state)"
   ]
  },
  {
   "cell_type": "code",
   "execution_count": 18,
   "metadata": {},
   "outputs": [],
   "source": [
    "# useful_data=[]\n",
    "tri_list=[]\n",
    "bi_list=[]\n",
    "uni_list=[]\n",
    "for i,state in enumerate(STATE_NAMES):\n",
    "    \n",
    "    # here i is the state code\n",
    "    male_pop=census[(census['State']==i) & (census['TRU']=='Total')]['TOT_M'].values[0]\n",
    "    female_pop=census[(census['State']==i) & (census['TRU']=='Total')]['TOT_F'].values[0]\n",
    "    \n",
    "    # tri\n",
    "    tri_male=c18[(c18.iloc[:,0]==i) & (c18.iloc[:,4]=='Total') & (c18.iloc[:,3]=='Total')].iloc[0,9]\n",
    "    tri_female=c18[(c18.iloc[:,0]==i) & (c18.iloc[:,4]=='Total') & (c18.iloc[:,3]=='Total')].iloc[0,10]\n",
    "\n",
    "    #bi\n",
    "    bi_male=c18[(c18.iloc[:,0]==i) & (c18.iloc[:,4]=='Total') & (c18.iloc[:,3]=='Total')].iloc[0,6] - tri_male\n",
    "    bi_female=c18[(c18.iloc[:,0]==i) & (c18.iloc[:,4]=='Total') & (c18.iloc[:,3]=='Total')].iloc[0,7] - tri_female\n",
    "\n",
    "    #uni\n",
    "    uni_male=male_pop-bi_male-tri_male\n",
    "    uni_female=female_pop-bi_female-tri_female\n",
    "    \n",
    "    p_value=stats.ttest_1samp([tri_male/tri_female,bi_male/bi_female,uni_male/uni_female],[male_pop/female_pop]).pvalue[0]\n",
    "\n",
    "    # or we could perform simple ttest_ind with variance being unequal like:\n",
    "    # https://docs.scipy.org/doc/scipy/reference/generated/scipy.stats.ttest_ind.html\n",
    "    # p_value1=stats.ttest_ind([male_pop/female_pop]*3,[tri_male/tri_female,bi_male/bi_female,uni_male/uni_female],equal_var=False).pvalue\n",
    "    # item={\n",
    "    #     'state-code':i,\n",
    "    #     'state-name':state,\n",
    "    #     'p-value-1samp':p_value,\n",
    "    #     'male-to-female':male_pop/female_pop,\n",
    "    #     'tri-male-to-female-ratio':tri_male/tri_female,\n",
    "    #     'bi-male-to-female-ratio':bi_male/bi_female,\n",
    "    #     'uni-male-to-female-ratio':uni_male/uni_female\n",
    "    # }\n",
    "    tri_item={\n",
    "        'state-code':i,\n",
    "        'male-percentage':round(100*tri_male/male_pop,2),\n",
    "        'female-percentage':round(100*tri_female/female_pop,2),\n",
    "        'p-value':p_value\n",
    "    }\n",
    "\n",
    "    bi_item={\n",
    "        'state-code':i,\n",
    "        'male-percentage':round(100*bi_male/male_pop,2),\n",
    "        'female-percentage':round(100*bi_female/female_pop,2),\n",
    "        'p-value':p_value\n",
    "    }\n",
    "\n",
    "    uni_item={\n",
    "        'state-code':i,\n",
    "        'male-percentage':round(100*uni_male/male_pop,2),\n",
    "        'female-percentage':round(100*uni_female/female_pop,2),\n",
    "        'p-value':p_value\n",
    "    }\n",
    "    tri_list.append(tri_item)\n",
    "    bi_list.append(bi_item)\n",
    "    uni_list.append(uni_item)\n",
    "    # useful_data.append(item)"
   ]
  },
  {
   "cell_type": "code",
   "execution_count": null,
   "metadata": {},
   "outputs": [],
   "source": [
    "tri_df=pd.DataFrame(tri_list)\n",
    "bi_df=pd.DataFrame(bi_list)\n",
    "uni_df=pd.DataFrame(uni_list)"
   ]
  },
  {
   "cell_type": "code",
   "execution_count": null,
   "metadata": {},
   "outputs": [],
   "source": [
    "tri_df.to_csv('outputs/gender-india-c.csv',index=False)\n",
    "bi_df.to_csv('outputs/gender-india-b.csv',index=False)\n",
    "uni_df.to_csv('outputs/gender-india-a.csv',index=False)"
   ]
  },
  {
   "cell_type": "markdown",
   "metadata": {},
   "source": [
    "### independence t-test of 2-vectors"
   ]
  },
  {
   "cell_type": "markdown",
   "metadata": {},
   "source": [
    "- 1 categorical feature -> 1 sample proportion test\n",
    "- 2 categorical features -> chi-square test\n",
    "- 1 continuous feature -> 1 sample t-test\n",
    "- 2 continuous features + equal variance -> 2 sample student's  t-test\n",
    "- `2 continuous features + unequal variance -> welsch's t-test`\n",
    "- 1 categorical feature + 1 continuous feature -> ANOVA test\n",
    "\n",
    "here, we are comparing a continuous feature : (specifically ratios) with unequal variances, so perform welsch's t-test"
   ]
  },
  {
   "cell_type": "markdown",
   "metadata": {},
   "source": [
    "#### result\n",
    "- for no state or ut the ratio is significantly different"
   ]
  }
 ],
 "metadata": {
  "interpreter": {
   "hash": "365d70965140afb04a698773bfdd31483bc82432b779112c2a78b5de7c16d125"
  },
  "kernelspec": {
   "display_name": "Python 3.8.5 64-bit ('base': conda)",
   "name": "python3"
  },
  "language_info": {
   "codemirror_mode": {
    "name": "ipython",
    "version": 3
   },
   "file_extension": ".py",
   "mimetype": "text/x-python",
   "name": "python",
   "nbconvert_exporter": "python",
   "pygments_lexer": "ipython3",
   "version": "3.8.5"
  },
  "orig_nbformat": 4
 },
 "nbformat": 4,
 "nbformat_minor": 2
}
