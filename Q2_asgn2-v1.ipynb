{
 "cells": [
  {
   "cell_type": "markdown",
   "metadata": {},
   "source": [
    "## import modules"
   ]
  },
  {
   "cell_type": "code",
   "execution_count": 13,
   "metadata": {},
   "outputs": [],
   "source": [
    "import pandas as pd\n",
    "from scipy import stats\n",
    "import numpy as np"
   ]
  },
  {
   "cell_type": "markdown",
   "metadata": {},
   "source": [
    "## census data processing"
   ]
  },
  {
   "cell_type": "code",
   "execution_count": 14,
   "metadata": {},
   "outputs": [],
   "source": [
    "# for population data\n",
    "cols=['State', 'Level', 'Name', 'TRU', 'No_HH', 'TOT_P', 'TOT_M', 'TOT_F']\n",
    "census=pd.read_excel('datasets/census.xlsx',engine='openpyxl',usecols=cols)\n",
    "censusIndia=census.iloc[0,:]\n",
    "census=census.loc[(census.Level=='STATE') & (census.TRU=='Total')]\n",
    "census=census.append(censusIndia,ignore_index=True)\n",
    "census.sort_values(by=['State'],axis=0,inplace=True)\n",
    "census.reset_index(drop=True,inplace=True)"
   ]
  },
  {
   "cell_type": "code",
   "execution_count": 15,
   "metadata": {},
   "outputs": [
    {
     "data": {
      "text/html": [
       "<div>\n",
       "<style scoped>\n",
       "    .dataframe tbody tr th:only-of-type {\n",
       "        vertical-align: middle;\n",
       "    }\n",
       "\n",
       "    .dataframe tbody tr th {\n",
       "        vertical-align: top;\n",
       "    }\n",
       "\n",
       "    .dataframe thead th {\n",
       "        text-align: right;\n",
       "    }\n",
       "</style>\n",
       "<table border=\"1\" class=\"dataframe\">\n",
       "  <thead>\n",
       "    <tr style=\"text-align: right;\">\n",
       "      <th></th>\n",
       "      <th>State</th>\n",
       "      <th>Level</th>\n",
       "      <th>Name</th>\n",
       "      <th>TRU</th>\n",
       "      <th>No_HH</th>\n",
       "      <th>TOT_P</th>\n",
       "      <th>TOT_M</th>\n",
       "      <th>TOT_F</th>\n",
       "    </tr>\n",
       "  </thead>\n",
       "  <tbody>\n",
       "    <tr>\n",
       "      <th>0</th>\n",
       "      <td>0</td>\n",
       "      <td>India</td>\n",
       "      <td>India</td>\n",
       "      <td>Total</td>\n",
       "      <td>249501663</td>\n",
       "      <td>1210854977</td>\n",
       "      <td>623270258</td>\n",
       "      <td>587584719</td>\n",
       "    </tr>\n",
       "    <tr>\n",
       "      <th>1</th>\n",
       "      <td>1</td>\n",
       "      <td>STATE</td>\n",
       "      <td>JAMMU &amp; KASHMIR</td>\n",
       "      <td>Total</td>\n",
       "      <td>2119718</td>\n",
       "      <td>12541302</td>\n",
       "      <td>6640662</td>\n",
       "      <td>5900640</td>\n",
       "    </tr>\n",
       "    <tr>\n",
       "      <th>2</th>\n",
       "      <td>2</td>\n",
       "      <td>STATE</td>\n",
       "      <td>HIMACHAL PRADESH</td>\n",
       "      <td>Total</td>\n",
       "      <td>1483280</td>\n",
       "      <td>6864602</td>\n",
       "      <td>3481873</td>\n",
       "      <td>3382729</td>\n",
       "    </tr>\n",
       "    <tr>\n",
       "      <th>3</th>\n",
       "      <td>3</td>\n",
       "      <td>STATE</td>\n",
       "      <td>PUNJAB</td>\n",
       "      <td>Total</td>\n",
       "      <td>5513071</td>\n",
       "      <td>27743338</td>\n",
       "      <td>14639465</td>\n",
       "      <td>13103873</td>\n",
       "    </tr>\n",
       "    <tr>\n",
       "      <th>4</th>\n",
       "      <td>4</td>\n",
       "      <td>STATE</td>\n",
       "      <td>CHANDIGARH</td>\n",
       "      <td>Total</td>\n",
       "      <td>241173</td>\n",
       "      <td>1055450</td>\n",
       "      <td>580663</td>\n",
       "      <td>474787</td>\n",
       "    </tr>\n",
       "    <tr>\n",
       "      <th>5</th>\n",
       "      <td>5</td>\n",
       "      <td>STATE</td>\n",
       "      <td>UTTARAKHAND</td>\n",
       "      <td>Total</td>\n",
       "      <td>2056975</td>\n",
       "      <td>10086292</td>\n",
       "      <td>5137773</td>\n",
       "      <td>4948519</td>\n",
       "    </tr>\n",
       "    <tr>\n",
       "      <th>6</th>\n",
       "      <td>6</td>\n",
       "      <td>STATE</td>\n",
       "      <td>HARYANA</td>\n",
       "      <td>Total</td>\n",
       "      <td>4857524</td>\n",
       "      <td>25351462</td>\n",
       "      <td>13494734</td>\n",
       "      <td>11856728</td>\n",
       "    </tr>\n",
       "    <tr>\n",
       "      <th>7</th>\n",
       "      <td>7</td>\n",
       "      <td>STATE</td>\n",
       "      <td>NCT OF DELHI</td>\n",
       "      <td>Total</td>\n",
       "      <td>3435999</td>\n",
       "      <td>16787941</td>\n",
       "      <td>8987326</td>\n",
       "      <td>7800615</td>\n",
       "    </tr>\n",
       "    <tr>\n",
       "      <th>8</th>\n",
       "      <td>8</td>\n",
       "      <td>STATE</td>\n",
       "      <td>RAJASTHAN</td>\n",
       "      <td>Total</td>\n",
       "      <td>12711146</td>\n",
       "      <td>68548437</td>\n",
       "      <td>35550997</td>\n",
       "      <td>32997440</td>\n",
       "    </tr>\n",
       "    <tr>\n",
       "      <th>9</th>\n",
       "      <td>9</td>\n",
       "      <td>STATE</td>\n",
       "      <td>UTTAR PRADESH</td>\n",
       "      <td>Total</td>\n",
       "      <td>33448035</td>\n",
       "      <td>199812341</td>\n",
       "      <td>104480510</td>\n",
       "      <td>95331831</td>\n",
       "    </tr>\n",
       "  </tbody>\n",
       "</table>\n",
       "</div>"
      ],
      "text/plain": [
       "   State  Level              Name    TRU      No_HH       TOT_P      TOT_M  \\\n",
       "0      0  India             India  Total  249501663  1210854977  623270258   \n",
       "1      1  STATE   JAMMU & KASHMIR  Total    2119718    12541302    6640662   \n",
       "2      2  STATE  HIMACHAL PRADESH  Total    1483280     6864602    3481873   \n",
       "3      3  STATE            PUNJAB  Total    5513071    27743338   14639465   \n",
       "4      4  STATE        CHANDIGARH  Total     241173     1055450     580663   \n",
       "5      5  STATE       UTTARAKHAND  Total    2056975    10086292    5137773   \n",
       "6      6  STATE           HARYANA  Total    4857524    25351462   13494734   \n",
       "7      7  STATE      NCT OF DELHI  Total    3435999    16787941    8987326   \n",
       "8      8  STATE         RAJASTHAN  Total   12711146    68548437   35550997   \n",
       "9      9  STATE     UTTAR PRADESH  Total   33448035   199812341  104480510   \n",
       "\n",
       "       TOT_F  \n",
       "0  587584719  \n",
       "1    5900640  \n",
       "2    3382729  \n",
       "3   13103873  \n",
       "4     474787  \n",
       "5    4948519  \n",
       "6   11856728  \n",
       "7    7800615  \n",
       "8   32997440  \n",
       "9   95331831  "
      ]
     },
     "execution_count": 15,
     "metadata": {},
     "output_type": "execute_result"
    }
   ],
   "source": [
    "census.head(10)"
   ]
  },
  {
   "cell_type": "markdown",
   "metadata": {},
   "source": [
    "## male-to-female"
   ]
  },
  {
   "cell_type": "code",
   "execution_count": 16,
   "metadata": {},
   "outputs": [],
   "source": [
    "c18=pd.read_excel('datasets/C-18.xlsx',engine='openpyxl',skiprows=6,header=None)"
   ]
  },
  {
   "cell_type": "code",
   "execution_count": 18,
   "metadata": {},
   "outputs": [],
   "source": [
    "STATE_NAMES=[]\n",
    "for state in c18.iloc[:,2].values:\n",
    "    if not (state in STATE_NAMES):\n",
    "        STATE_NAMES.append(state)"
   ]
  },
  {
   "cell_type": "code",
   "execution_count": 20,
   "metadata": {},
   "outputs": [],
   "source": [
    "useful_data=[]\n",
    "for i,state in enumerate(STATE_NAMES):\n",
    "    \n",
    "    # here i is the state code\n",
    "    male_pop=census[(census['State']==i) & (census['TRU']=='Total')]['TOT_M'].values[0]\n",
    "    female_pop=census[(census['State']==i) & (census['TRU']=='Total')]['TOT_F'].values[0]\n",
    "    \n",
    "    # tri\n",
    "    tri_male=c18[(c18.iloc[:,0]==i) & (c18.iloc[:,4]=='Total') & (c18.iloc[:,3]=='Total')].iloc[0,9]\n",
    "    tri_female=c18[(c18.iloc[:,0]==i) & (c18.iloc[:,4]=='Total') & (c18.iloc[:,3]=='Total')].iloc[0,10]\n",
    "\n",
    "    #bi\n",
    "    bi_male=c18[(c18.iloc[:,0]==i) & (c18.iloc[:,4]=='Total') & (c18.iloc[:,3]=='Total')].iloc[0,6] - tri_male\n",
    "    bi_female=c18[(c18.iloc[:,0]==i) & (c18.iloc[:,4]=='Total') & (c18.iloc[:,3]=='Total')].iloc[0,7] - tri_female\n",
    "\n",
    "    #uni\n",
    "    uni_male=male_pop-bi_male-tri_male\n",
    "    uni_female=female_pop-bi_female-tri_female\n",
    "\n",
    "    item={\n",
    "        'state-code':i,\n",
    "        'state-name':state,\n",
    "        'male-to-female':male_pop/female_pop,\n",
    "        'tri-male-to-female-ratio':tri_male/tri_female,\n",
    "        'bi-male-to-female-ratio':bi_male/bi_female,\n",
    "        'uni-male-to-female-ratio':uni_male/uni_female\n",
    "    }\n",
    "\n",
    "    useful_data.append(item)"
   ]
  },
  {
   "cell_type": "code",
   "execution_count": 22,
   "metadata": {},
   "outputs": [],
   "source": [
    "df=pd.DataFrame(useful_data)"
   ]
  },
  {
   "cell_type": "markdown",
   "metadata": {},
   "source": [
    "- main thing is how to do p-test for these values"
   ]
  }
 ],
 "metadata": {
  "interpreter": {
   "hash": "365d70965140afb04a698773bfdd31483bc82432b779112c2a78b5de7c16d125"
  },
  "kernelspec": {
   "display_name": "Python 3.8.5 64-bit ('base': conda)",
   "name": "python3"
  },
  "language_info": {
   "codemirror_mode": {
    "name": "ipython",
    "version": 3
   },
   "file_extension": ".py",
   "mimetype": "text/x-python",
   "name": "python",
   "nbconvert_exporter": "python",
   "pygments_lexer": "ipython3",
   "version": "3.8.5"
  },
  "orig_nbformat": 4
 },
 "nbformat": 4,
 "nbformat_minor": 2
}
