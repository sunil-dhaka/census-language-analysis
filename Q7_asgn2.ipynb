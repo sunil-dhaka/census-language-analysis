{
 "cells": [
  {
   "cell_type": "code",
   "execution_count": 1,
   "metadata": {},
   "outputs": [],
   "source": [
    "import pandas as pd"
   ]
  },
  {
   "cell_type": "markdown",
   "metadata": {},
   "source": [
    "# generate state code and name dictionary\n",
    "North: JK, ~~`[Ladakh]`~~, PN, HP, HR, UK, Delhi, Chandigarh \n",
    "\n",
    "West: RJ, GJ, MH, Goa, Dadra & Nagar Haveli, Daman & Diu  \n",
    "\n",
    "Central: MP, UP, CG  \n",
    "\n",
    "East: BH, WB, OR, JH  \n",
    "\n",
    "South: KT, ~~`[TG]`~~, AP, TN, KL, Lakshadweep, Puducherry \n",
    "\n",
    "North-East: AS, SK, MG, TR, AR, MN, NG, MZ, Andaman & NicobarFor"
   ]
  },
  {
   "cell_type": "code",
   "execution_count": 115,
   "metadata": {},
   "outputs": [],
   "source": [
    "North=list(range(1,8))\n",
    "West=list(range(8,14))\n",
    "Central=list(range(14,17))\n",
    "East=list(range(17,21))\n",
    "South=list(range(21,27))\n",
    "North_East=list(range(27,36))"
   ]
  },
  {
   "cell_type": "code",
   "execution_count": 138,
   "metadata": {},
   "outputs": [],
   "source": [
    "def getTopLangs(region):\n",
    "    overallDF=pd.DataFrame()\n",
    "    for code in region:\n",
    "        df=pd.read_excel(f'datasets/C-17/{str(code).zfill(2)}.xlsx',skiprows=6,header=None,engine='openpyxl')\n",
    "        overallDF=pd.concat([overallDF,df],ignore_index=True)\n",
    "    overallDF.fillna(value=0,inplace=True)\n",
    "\n",
    "    # cover all languages in 3 cols\n",
    "    possibleLangs=overallDF.iloc[:,3].to_list()\n",
    "    possibleLangs.extend(overallDF.iloc[:,8].to_list())\n",
    "    possibleLangs.extend(overallDF.iloc[:,13].to_list())\n",
    "\n",
    "    availableLangs=[]\n",
    "    for langs in possibleLangs:\n",
    "        if (langs!=0) and (langs not in availableLangs):\n",
    "            availableLangs.append(langs)\n",
    "    print('total languages spoken in the region are >>> ',len(availableLangs))\n",
    "    langCounts={}\n",
    "    for lang in availableLangs:\n",
    "        langCounts[lang]=0\n",
    "    for lang in availableLangs:\n",
    "        for i,data in enumerate(overallDF.iloc[:,3].to_list()):\n",
    "            if data==lang:\n",
    "                langCounts[lang]=langCounts[lang]+overallDF.iloc[i,4]\n",
    "        for i,data in enumerate(overallDF.iloc[:,8].to_list()):\n",
    "            if data==lang:\n",
    "                langCounts[lang]=langCounts[lang]+overallDF.iloc[i,9]\n",
    "        for i,data in enumerate(overallDF.iloc[:,13].to_list()):\n",
    "            if data==lang:\n",
    "                langCounts[lang]=langCounts[lang]+overallDF.iloc[i,14]\n",
    "    # store in a df and sort\n",
    "    langCountsDF=pd.DataFrame({'name':list(langCounts.keys()),'count':list(langCounts.values())})\n",
    "    langCountsDF.sort_values('count',axis=0,ascending=False,inplace=True)\n",
    "\n",
    "    topThree=langCountsDF.head(3)['name'].to_list()\n",
    "\n",
    "    return topThree"
   ]
  },
  {
   "cell_type": "code",
   "execution_count": 139,
   "metadata": {},
   "outputs": [
    {
     "name": "stdout",
     "output_type": "stream",
     "text": [
      "total languages spoken in the region are >>>  117\n",
      "['HINDI ', 'PUNJABI ', 'ENGLISH ']\n"
     ]
    }
   ],
   "source": [
    "print(getTopLangs(North))"
   ]
  }
 ],
 "metadata": {
  "interpreter": {
   "hash": "365d70965140afb04a698773bfdd31483bc82432b779112c2a78b5de7c16d125"
  },
  "kernelspec": {
   "display_name": "Python 3.8.5 64-bit ('base': conda)",
   "name": "python3"
  },
  "language_info": {
   "codemirror_mode": {
    "name": "ipython",
    "version": 3
   },
   "file_extension": ".py",
   "mimetype": "text/x-python",
   "name": "python",
   "nbconvert_exporter": "python",
   "pygments_lexer": "ipython3",
   "version": "3.8.5"
  },
  "orig_nbformat": 4
 },
 "nbformat": 4,
 "nbformat_minor": 2
}
