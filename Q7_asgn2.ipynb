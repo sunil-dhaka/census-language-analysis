{
 "cells": [
  {
   "cell_type": "code",
   "execution_count": 72,
   "metadata": {},
   "outputs": [],
   "source": [
    "import pandas as pd"
   ]
  },
  {
   "cell_type": "markdown",
   "metadata": {},
   "source": [
    "## generate state code and name dictionary\n",
    "North: JK, ~~`[Ladakh]`~~, PN, HP, HR, UK, Delhi, Chandigarh \n",
    "\n",
    "West: RJ, GJ, MH, Goa, Dadra & Nagar Haveli, Daman & Diu  \n",
    "\n",
    "Central: MP, UP, CG  \n",
    "\n",
    "East: BH, WB, OR, JH  \n",
    "\n",
    "South: KT, ~~`[TG]`~~, AP, TN, KL, Lakshadweep, Puducherry \n",
    "\n",
    "North-East: AS, SK, MG, TR, AR, MN, NG, MZ, Andaman & NicobarFor"
   ]
  },
  {
   "cell_type": "code",
   "execution_count": 73,
   "metadata": {},
   "outputs": [],
   "source": [
    "North=[1,2,3,4,5,6,7]\n",
    "West=[8,24,25,26,27,30]\n",
    "Central=[9,22,23]\n",
    "East=[10,19,20,21]\n",
    "South=[28,29,31,32,33,34]\n",
    "North_East=[11,12,13,14,15,16,17,18,35]\n",
    "REGIONS=[North,West,Central,East,South,North_East]\n",
    "REGION_NAMES=['North','West','Central','East','South','North_East']"
   ]
  },
  {
   "cell_type": "markdown",
   "metadata": {},
   "source": [
    "## part-a"
   ]
  },
  {
   "cell_type": "code",
   "execution_count": 5,
   "metadata": {},
   "outputs": [],
   "source": [
    "c16=pd.read_excel('datasets/C-16.xlsx',engine='openpyxl',skiprows=6,header=None)"
   ]
  },
  {
   "cell_type": "code",
   "execution_count": 68,
   "metadata": {},
   "outputs": [],
   "source": [
    "def mother_toung(region,region_name):\n",
    "    overallDF=pd.read_excel('datasets/C-16.xlsx',engine='openpyxl',skiprows=6,header=None)\n",
    "    true_false_list=[]\n",
    "\n",
    "    for code in c16.iloc[:,1].values:\n",
    "        if code in region:\n",
    "            true_false_list.append(True)\n",
    "        else:\n",
    "            true_false_list.append(False)\n",
    "        \n",
    "    df=overallDF[true_false_list]\n",
    "    # print(df)\n",
    "    mother_toung=[]\n",
    "    langs=[]\n",
    "    for i,lang in enumerate(df.iloc[:,6].values):\n",
    "\n",
    "        if lang.isupper():\n",
    "            item={\n",
    "                'lang':lang[2:].strip(' '), # remove start and end whitspaces\n",
    "                'count':df.iloc[i,7]\n",
    "            }\n",
    "            mother_toung.append(item)\n",
    "\n",
    "    foo_df=pd.DataFrame(mother_toung) \n",
    "    foo_df=foo_df.groupby(['lang'],sort=False).sum()\n",
    "    foo_df.sort_values('count',ascending=False,inplace=True)\n",
    "    \n",
    "    lang_list=list(foo_df.head(3).index)\n",
    "\n",
    "    item={\n",
    "        'region':region_name,\n",
    "        'language-1':lang_list[0],\n",
    "        'language-2':lang_list[1],\n",
    "        'language-3':lang_list[2],\n",
    "    }\n",
    "\n",
    "\n",
    "    return item"
   ]
  },
  {
   "cell_type": "code",
   "execution_count": 74,
   "metadata": {},
   "outputs": [],
   "source": [
    "region_list=[]\n",
    "for region,region_name in zip(REGIONS,REGION_NAMES):\n",
    "    region_list.append(mother_toung(region,region_name))"
   ]
  },
  {
   "cell_type": "code",
   "execution_count": 75,
   "metadata": {},
   "outputs": [],
   "source": [
    "part_a_df=pd.DataFrame(region_list)"
   ]
  },
  {
   "cell_type": "markdown",
   "metadata": {},
   "source": [
    "## part-b"
   ]
  },
  {
   "cell_type": "code",
   "execution_count": 76,
   "metadata": {},
   "outputs": [],
   "source": [
    "def getTopLangs(region,region_name):\n",
    "    overallDF=pd.DataFrame()\n",
    "    for code in region:\n",
    "        df=pd.read_excel(f'datasets/C-17/{str(code).zfill(2)}.xlsx',skiprows=6,header=None,engine='openpyxl')\n",
    "        overallDF=pd.concat([overallDF,df],ignore_index=True)\n",
    "    overallDF.fillna(value=0,inplace=True)\n",
    "\n",
    "    # cover all languages in 3 cols\n",
    "    possibleLangs=overallDF.iloc[:,3].to_list()\n",
    "    possibleLangs.extend(overallDF.iloc[:,8].to_list())\n",
    "    possibleLangs.extend(overallDF.iloc[:,13].to_list())\n",
    "\n",
    "    availableLangs=[]\n",
    "    for langs in possibleLangs:\n",
    "        if (langs!=0) and (langs not in availableLangs):\n",
    "            availableLangs.append(langs)\n",
    "    print('total languages spoken in the region are >>> ',len(availableLangs))\n",
    "    langCounts={}\n",
    "    for lang in availableLangs:\n",
    "        langCounts[lang]=0\n",
    "    for lang in availableLangs:\n",
    "        for i,data in enumerate(overallDF.iloc[:,3].to_list()):\n",
    "            if data==lang:\n",
    "                langCounts[lang]=langCounts[lang]+overallDF.iloc[i,4]\n",
    "        for i,data in enumerate(overallDF.iloc[:,8].to_list()):\n",
    "            if data==lang:\n",
    "                langCounts[lang]=langCounts[lang]+overallDF.iloc[i,9]\n",
    "        for i,data in enumerate(overallDF.iloc[:,13].to_list()):\n",
    "            if data==lang:\n",
    "                langCounts[lang]=langCounts[lang]+overallDF.iloc[i,14]\n",
    "    # store in a df and sort\n",
    "    langCountsDF=pd.DataFrame({'name':list(langCounts.keys()),'count':list(langCounts.values())})\n",
    "    langCountsDF.sort_values('count',axis=0,ascending=False,inplace=True)\n",
    "\n",
    "    lang_list=langCountsDF.head(3)['name'].to_list()\n",
    "\n",
    "    item={\n",
    "        'region':region_name,\n",
    "        'language-1':lang_list[0],\n",
    "        'language-2':lang_list[1],\n",
    "        'language-3':lang_list[2],\n",
    "    }\n",
    "\n",
    "    return item"
   ]
  },
  {
   "cell_type": "code",
   "execution_count": 77,
   "metadata": {},
   "outputs": [
    {
     "name": "stdout",
     "output_type": "stream",
     "text": [
      "total languages spoken in the region are >>>  117\n",
      "total languages spoken in the region are >>>  120\n",
      "total languages spoken in the region are >>>  117\n",
      "total languages spoken in the region are >>>  120\n",
      "total languages spoken in the region are >>>  118\n",
      "total languages spoken in the region are >>>  121\n"
     ]
    }
   ],
   "source": [
    "region_list=[]\n",
    "for region,region_name in zip(REGIONS,REGION_NAMES):\n",
    "    region_list.append(getTopLangs(region,region_name))"
   ]
  },
  {
   "cell_type": "code",
   "execution_count": 78,
   "metadata": {},
   "outputs": [],
   "source": [
    "part_b_df=pd.DataFrame(region_list)"
   ]
  },
  {
   "cell_type": "code",
   "execution_count": 79,
   "metadata": {},
   "outputs": [
    {
     "data": {
      "text/html": [
       "<div>\n",
       "<style scoped>\n",
       "    .dataframe tbody tr th:only-of-type {\n",
       "        vertical-align: middle;\n",
       "    }\n",
       "\n",
       "    .dataframe tbody tr th {\n",
       "        vertical-align: top;\n",
       "    }\n",
       "\n",
       "    .dataframe thead th {\n",
       "        text-align: right;\n",
       "    }\n",
       "</style>\n",
       "<table border=\"1\" class=\"dataframe\">\n",
       "  <thead>\n",
       "    <tr style=\"text-align: right;\">\n",
       "      <th></th>\n",
       "      <th>region</th>\n",
       "      <th>language-1</th>\n",
       "      <th>language-2</th>\n",
       "      <th>language-3</th>\n",
       "    </tr>\n",
       "  </thead>\n",
       "  <tbody>\n",
       "    <tr>\n",
       "      <th>0</th>\n",
       "      <td>North</td>\n",
       "      <td>HINDI</td>\n",
       "      <td>PUNJABI</td>\n",
       "      <td>KASHMIRI</td>\n",
       "    </tr>\n",
       "    <tr>\n",
       "      <th>1</th>\n",
       "      <td>West</td>\n",
       "      <td>HINDI</td>\n",
       "      <td>MARATHI</td>\n",
       "      <td>GUJARATI</td>\n",
       "    </tr>\n",
       "    <tr>\n",
       "      <th>2</th>\n",
       "      <td>Central</td>\n",
       "      <td>HINDI</td>\n",
       "      <td>URDU</td>\n",
       "      <td>BHILI/BHILODI</td>\n",
       "    </tr>\n",
       "    <tr>\n",
       "      <th>3</th>\n",
       "      <td>East</td>\n",
       "      <td>HINDI</td>\n",
       "      <td>BENGALI</td>\n",
       "      <td>ODIA</td>\n",
       "    </tr>\n",
       "    <tr>\n",
       "      <th>4</th>\n",
       "      <td>South</td>\n",
       "      <td>TELUGU</td>\n",
       "      <td>TAMIL</td>\n",
       "      <td>KANNADA</td>\n",
       "    </tr>\n",
       "    <tr>\n",
       "      <th>5</th>\n",
       "      <td>North_East</td>\n",
       "      <td>ASSAMESE</td>\n",
       "      <td>BENGALI</td>\n",
       "      <td>HINDI</td>\n",
       "    </tr>\n",
       "  </tbody>\n",
       "</table>\n",
       "</div>"
      ],
      "text/plain": [
       "       region language-1 language-2     language-3\n",
       "0       North      HINDI    PUNJABI       KASHMIRI\n",
       "1        West      HINDI    MARATHI       GUJARATI\n",
       "2     Central      HINDI       URDU  BHILI/BHILODI\n",
       "3        East      HINDI    BENGALI           ODIA\n",
       "4       South     TELUGU      TAMIL        KANNADA\n",
       "5  North_East   ASSAMESE    BENGALI          HINDI"
      ]
     },
     "execution_count": 79,
     "metadata": {},
     "output_type": "execute_result"
    }
   ],
   "source": [
    "part_a_df\n"
   ]
  },
  {
   "cell_type": "code",
   "execution_count": 80,
   "metadata": {},
   "outputs": [
    {
     "data": {
      "text/html": [
       "<div>\n",
       "<style scoped>\n",
       "    .dataframe tbody tr th:only-of-type {\n",
       "        vertical-align: middle;\n",
       "    }\n",
       "\n",
       "    .dataframe tbody tr th {\n",
       "        vertical-align: top;\n",
       "    }\n",
       "\n",
       "    .dataframe thead th {\n",
       "        text-align: right;\n",
       "    }\n",
       "</style>\n",
       "<table border=\"1\" class=\"dataframe\">\n",
       "  <thead>\n",
       "    <tr style=\"text-align: right;\">\n",
       "      <th></th>\n",
       "      <th>region</th>\n",
       "      <th>language-1</th>\n",
       "      <th>language-2</th>\n",
       "      <th>language-3</th>\n",
       "    </tr>\n",
       "  </thead>\n",
       "  <tbody>\n",
       "    <tr>\n",
       "      <th>0</th>\n",
       "      <td>North</td>\n",
       "      <td>HINDI</td>\n",
       "      <td>PUNJABI</td>\n",
       "      <td>ENGLISH</td>\n",
       "    </tr>\n",
       "    <tr>\n",
       "      <th>1</th>\n",
       "      <td>West</td>\n",
       "      <td>HINDI</td>\n",
       "      <td>MARATHI</td>\n",
       "      <td>GUJARATI</td>\n",
       "    </tr>\n",
       "    <tr>\n",
       "      <th>2</th>\n",
       "      <td>Central</td>\n",
       "      <td>HINDI</td>\n",
       "      <td>ENGLISH</td>\n",
       "      <td>URDU</td>\n",
       "    </tr>\n",
       "    <tr>\n",
       "      <th>3</th>\n",
       "      <td>East</td>\n",
       "      <td>HINDI</td>\n",
       "      <td>BENGALI</td>\n",
       "      <td>ODIA</td>\n",
       "    </tr>\n",
       "    <tr>\n",
       "      <th>4</th>\n",
       "      <td>South</td>\n",
       "      <td>TELUGU</td>\n",
       "      <td>TAMIL</td>\n",
       "      <td>KANNADA</td>\n",
       "    </tr>\n",
       "    <tr>\n",
       "      <th>5</th>\n",
       "      <td>North_East</td>\n",
       "      <td>ASSAMESE</td>\n",
       "      <td>BENGALI</td>\n",
       "      <td>HINDI</td>\n",
       "    </tr>\n",
       "  </tbody>\n",
       "</table>\n",
       "</div>"
      ],
      "text/plain": [
       "       region language-1 language-2 language-3\n",
       "0       North     HINDI    PUNJABI    ENGLISH \n",
       "1        West     HINDI    MARATHI    GUJARATI\n",
       "2     Central     HINDI    ENGLISH        URDU\n",
       "3        East     HINDI    BENGALI       ODIA \n",
       "4       South    TELUGU      TAMIL     KANNADA\n",
       "5  North_East   ASSAMESE   BENGALI      HINDI "
      ]
     },
     "execution_count": 80,
     "metadata": {},
     "output_type": "execute_result"
    }
   ],
   "source": [
    "\n",
    "part_b_df"
   ]
  },
  {
   "cell_type": "markdown",
   "metadata": {},
   "source": [
    "- it makes sense that both occurances of English is being replaced by local regional language, because people normally does not use English in normal daily activites; rather they use their local mother toung more in daily activities\n",
    "    - In north: English --> Kashmiri\n",
    "    - In central: Urdu becomes 2nd and 3rd is Bhili"
   ]
  }
 ],
 "metadata": {
  "interpreter": {
   "hash": "365d70965140afb04a698773bfdd31483bc82432b779112c2a78b5de7c16d125"
  },
  "kernelspec": {
   "display_name": "Python 3.8.5 64-bit ('base': conda)",
   "name": "python3"
  },
  "language_info": {
   "codemirror_mode": {
    "name": "ipython",
    "version": 3
   },
   "file_extension": ".py",
   "mimetype": "text/x-python",
   "name": "python",
   "nbconvert_exporter": "python",
   "pygments_lexer": "ipython3",
   "version": "3.8.5"
  },
  "orig_nbformat": 4
 },
 "nbformat": 4,
 "nbformat_minor": 2
}
