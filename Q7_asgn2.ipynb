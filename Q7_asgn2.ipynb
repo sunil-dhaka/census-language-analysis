{
 "cells": [
  {
   "cell_type": "code",
   "execution_count": 1,
   "metadata": {},
   "outputs": [],
   "source": [
    "import pandas as pd"
   ]
  },
  {
   "cell_type": "markdown",
   "metadata": {},
   "source": [
    "## manually generate state code lists for regions\n",
    "North: JK, ~~`[Ladakh]`~~, PN, HP, HR, UK, Delhi, Chandigarh \n",
    "\n",
    "West: RJ, GJ, MH, Goa, Dadra & Nagar Haveli, Daman & Diu  \n",
    "\n",
    "Central: MP, UP, CG  \n",
    "\n",
    "East: BH, WB, OR, JH  \n",
    "\n",
    "South: KT, ~~`[TG]`~~, AP, TN, KL, Lakshadweep, Puducherry \n",
    "\n",
    "North-East: AS, SK, MG, TR, AR, MN, NG, MZ, Andaman & NicobarFor\n",
    "\n",
    "**NOTE:** Since TG and Ladakh are not in the data files I have not included them "
   ]
  },
  {
   "cell_type": "code",
   "execution_count": 2,
   "metadata": {},
   "outputs": [],
   "source": [
    "North=[1,2,3,4,5,6,7]\n",
    "West=[8,24,25,26,27,30]\n",
    "Central=[9,22,23]\n",
    "East=[10,19,20,21]\n",
    "South=[28,29,31,32,33,34]\n",
    "North_East=[11,12,13,14,15,16,17,18,35]\n",
    "REGIONS=[North,West,Central,East,South,North_East]\n",
    "REGION_NAMES=['North','West','Central','East','South','North_East']"
   ]
  },
  {
   "cell_type": "markdown",
   "metadata": {},
   "source": [
    "## part-a"
   ]
  },
  {
   "cell_type": "code",
   "execution_count": 3,
   "metadata": {},
   "outputs": [],
   "source": [
    "c16=pd.read_excel('datasets/C-16.xlsx',engine='openpyxl',skiprows=6,header=None)"
   ]
  },
  {
   "cell_type": "code",
   "execution_count": 4,
   "metadata": {},
   "outputs": [],
   "source": [
    "def mother_toung(region,region_name):\n",
    "    overallDF=pd.read_excel('datasets/C-16.xlsx',engine='openpyxl',skiprows=6,header=None)\n",
    "    true_false_list=[]\n",
    "\n",
    "    for code in c16.iloc[:,1].values:\n",
    "        if code in region:\n",
    "            true_false_list.append(True)\n",
    "        else:\n",
    "            true_false_list.append(False)\n",
    "        \n",
    "    df=overallDF[true_false_list]\n",
    "    # print(df)\n",
    "    mother_toung=[]\n",
    "    langs=[]\n",
    "    for i,lang in enumerate(df.iloc[:,6].values):\n",
    "\n",
    "        if lang.isupper():\n",
    "            item={\n",
    "                'lang':lang[2:].strip(' '), # remove start and end whitspaces\n",
    "                'count':df.iloc[i,7]\n",
    "            }\n",
    "            mother_toung.append(item)\n",
    "\n",
    "    foo_df=pd.DataFrame(mother_toung) \n",
    "    foo_df=foo_df.groupby(['lang'],sort=False).sum()\n",
    "    foo_df.sort_values('count',ascending=False,inplace=True)\n",
    "    \n",
    "    lang_list=list(foo_df.head(3).index)\n",
    "\n",
    "    item={\n",
    "        'region':region_name,\n",
    "        'language-1':lang_list[0],\n",
    "        'language-2':lang_list[1],\n",
    "        'language-3':lang_list[2],\n",
    "    }\n",
    "\n",
    "\n",
    "    return item"
   ]
  },
  {
   "cell_type": "code",
   "execution_count": 5,
   "metadata": {},
   "outputs": [],
   "source": [
    "region_list=[]\n",
    "for region,region_name in zip(REGIONS,REGION_NAMES):\n",
    "    region_list.append(mother_toung(region,region_name))"
   ]
  },
  {
   "cell_type": "code",
   "execution_count": 6,
   "metadata": {},
   "outputs": [],
   "source": [
    "part_a_df=pd.DataFrame(region_list)"
   ]
  },
  {
   "cell_type": "code",
   "execution_count": 7,
   "metadata": {},
   "outputs": [],
   "source": [
    "part_a_df.to_csv('outputs/region-india-a.csv',index=False)"
   ]
  },
  {
   "cell_type": "markdown",
   "metadata": {},
   "source": [
    "## part-b"
   ]
  },
  {
   "cell_type": "code",
   "execution_count": 8,
   "metadata": {},
   "outputs": [],
   "source": [
    "def getTopLangs(region,region_name):\n",
    "    overallDF=pd.DataFrame()\n",
    "    for code in region:\n",
    "        df=pd.read_excel(f'datasets/C-17/{str(code).zfill(2)}.xlsx',skiprows=6,header=None,engine='openpyxl')\n",
    "        overallDF=pd.concat([overallDF,df],ignore_index=True)\n",
    "    overallDF.fillna(value=0,inplace=True)\n",
    "\n",
    "    # cover all languages in 3 cols\n",
    "    possibleLangs=overallDF.iloc[:,3].to_list()\n",
    "    possibleLangs.extend(overallDF.iloc[:,8].to_list())\n",
    "    possibleLangs.extend(overallDF.iloc[:,13].to_list())\n",
    "\n",
    "    availableLangs=[]\n",
    "    for langs in possibleLangs:\n",
    "        if (langs!=0) and (langs not in availableLangs):\n",
    "            availableLangs.append(langs)\n",
    "    # print('total languages spoken in the region are >>> ',len(availableLangs))\n",
    "    langCounts={}\n",
    "    for lang in availableLangs:\n",
    "        langCounts[lang]=0\n",
    "    for lang in availableLangs:\n",
    "        for i,data in enumerate(overallDF.iloc[:,3].to_list()):\n",
    "            if data==lang:\n",
    "                langCounts[lang]=langCounts[lang]+overallDF.iloc[i,4]\n",
    "        for i,data in enumerate(overallDF.iloc[:,8].to_list()):\n",
    "            if data==lang:\n",
    "                langCounts[lang]=langCounts[lang]+overallDF.iloc[i,9]\n",
    "        for i,data in enumerate(overallDF.iloc[:,13].to_list()):\n",
    "            if data==lang:\n",
    "                langCounts[lang]=langCounts[lang]+overallDF.iloc[i,14]\n",
    "    # store in a df and sort\n",
    "    langCountsDF=pd.DataFrame({'name':list(langCounts.keys()),'count':list(langCounts.values())})\n",
    "    langCountsDF.sort_values('count',axis=0,ascending=False,inplace=True)\n",
    "\n",
    "    lang_list=langCountsDF.head(3)['name'].to_list()\n",
    "\n",
    "    item={\n",
    "        'region':region_name,\n",
    "        'language-1':lang_list[0],\n",
    "        'language-2':lang_list[1],\n",
    "        'language-3':lang_list[2],\n",
    "    }\n",
    "\n",
    "    return item"
   ]
  },
  {
   "cell_type": "code",
   "execution_count": 9,
   "metadata": {},
   "outputs": [],
   "source": [
    "region_list=[]\n",
    "for region,region_name in zip(REGIONS,REGION_NAMES):\n",
    "    region_list.append(getTopLangs(region,region_name))"
   ]
  },
  {
   "cell_type": "code",
   "execution_count": 10,
   "metadata": {},
   "outputs": [],
   "source": [
    "part_b_df=pd.DataFrame(region_list)"
   ]
  },
  {
   "cell_type": "code",
   "execution_count": 11,
   "metadata": {},
   "outputs": [],
   "source": [
    "part_b_df.to_csv('outputs/region-india-b.csv',index=False)"
   ]
  },
  {
   "cell_type": "markdown",
   "metadata": {},
   "source": [
    "- it makes sense that both occurances of English is being replaced by local regional language, because people normally does not use English in normal daily activites; rather they use their local mother toung more in daily activities\n",
    "    - In north: English --> Kashmiri\n",
    "    - In central: Urdu becomes 2nd and 3rd is Bhili"
   ]
  }
 ],
 "metadata": {
  "interpreter": {
   "hash": "365d70965140afb04a698773bfdd31483bc82432b779112c2a78b5de7c16d125"
  },
  "kernelspec": {
   "display_name": "Python 3.8.5 64-bit ('base': conda)",
   "name": "python3"
  },
  "language_info": {
   "codemirror_mode": {
    "name": "ipython",
    "version": 3
   },
   "file_extension": ".py",
   "mimetype": "text/x-python",
   "name": "python",
   "nbconvert_exporter": "python",
   "pygments_lexer": "ipython3",
   "version": "3.8.5"
  },
  "orig_nbformat": 4
 },
 "nbformat": 4,
 "nbformat_minor": 2
}
