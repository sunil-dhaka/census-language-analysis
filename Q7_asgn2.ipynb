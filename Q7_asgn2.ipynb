{
 "cells": [
  {
   "cell_type": "code",
   "execution_count": 1,
   "metadata": {},
   "outputs": [],
   "source": [
    "import pandas as pd"
   ]
  },
  {
   "cell_type": "markdown",
   "metadata": {},
   "source": [
    "# generate state code and name dictionary\n",
    "North: JK, Ladakh, PN, HP, HR, UK, Delhi, Chandigarh• \n",
    "West: RJ, GJ, MH, Goa, Dadra & Nagar Haveli, Daman & Diu•  \n",
    "Central: MP, UP, CG•  \n",
    "East: BH, WB, OR, JH•  \n",
    "South: KT, TG, AP, TN, KL, Lakshadweep, Puducherry• \n",
    "North-East: AS, SK, MG, TR, AR, MN, NG, MZ, Andaman & NicobarFor"
   ]
  },
  {
   "cell_type": "code",
   "execution_count": 115,
   "metadata": {},
   "outputs": [],
   "source": [
    "North=list(range(1,8))\n",
    "West=list(range(8,14))\n",
    "Central=list(range(14,17))\n",
    "East=list(range(17,21))\n",
    "South=list(range(21,27))\n",
    "North_East=list(range(27,36))"
   ]
  },
  {
   "cell_type": "code",
   "execution_count": null,
   "metadata": {},
   "outputs": [],
   "source": [
    "def getLangs(region):\n",
    "    for code in region:\n",
    "        df=pd.read_excel(f'datasets/C-17/{str(code).zfill(2)}.xlsx',skiprows=6,header=None,engine='openpyxl')"
   ]
  },
  {
   "cell_type": "code",
   "execution_count": 4,
   "metadata": {},
   "outputs": [],
   "source": [
    "df=pd.read_excel(f'datasets/C-17/01.xlsx',skiprows=6,header=None,engine='openpyxl')\n",
    "df.fillna(value=0,inplace=True)"
   ]
  },
  {
   "cell_type": "code",
   "execution_count": 6,
   "metadata": {},
   "outputs": [],
   "source": [
    "df1=pd.read_excel(f'datasets/C-17/02.xlsx',skiprows=6,header=None,engine='openpyxl')\n",
    "df1.fillna(value=0,inplace=True)"
   ]
  },
  {
   "cell_type": "code",
   "execution_count": 7,
   "metadata": {},
   "outputs": [],
   "source": [
    "df3=pd.concat([df,df1])"
   ]
  },
  {
   "cell_type": "code",
   "execution_count": 12,
   "metadata": {},
   "outputs": [
    {
     "data": {
      "text/plain": [
       "(3679, 17)"
      ]
     },
     "execution_count": 12,
     "metadata": {},
     "output_type": "execute_result"
    }
   ],
   "source": [
    "df3.shape"
   ]
  },
  {
   "cell_type": "code",
   "execution_count": 101,
   "metadata": {},
   "outputs": [],
   "source": [
    "df=pd.read_excel(f'datasets/C-17/00.xlsx',skiprows=6,header=None,engine='openpyxl')\n",
    "df.fillna(value=0,inplace=True)"
   ]
  },
  {
   "cell_type": "code",
   "execution_count": 102,
   "metadata": {},
   "outputs": [],
   "source": [
    "l=df.iloc[:,3].to_list()\n",
    "l.extend(df.iloc[:,8].to_list())\n",
    "l.extend(df.iloc[:,13].to_list())"
   ]
  },
  {
   "cell_type": "code",
   "execution_count": 103,
   "metadata": {},
   "outputs": [],
   "source": [
    "langsList=[]\n",
    "for langs in l:\n",
    "    if (langs!=0) and (langs not in langsList):\n",
    "        langsList.append(langs)"
   ]
  },
  {
   "cell_type": "code",
   "execution_count": 104,
   "metadata": {},
   "outputs": [
    {
     "data": {
      "text/plain": [
       "122"
      ]
     },
     "execution_count": 104,
     "metadata": {},
     "output_type": "execute_result"
    }
   ],
   "source": [
    "len(langsList)"
   ]
  },
  {
   "cell_type": "code",
   "execution_count": 105,
   "metadata": {},
   "outputs": [],
   "source": [
    "langCounts={}\n",
    "for lang in langsList:\n",
    "    langCounts[lang]=0\n",
    "for i,lang in enumerate(langsList):\n",
    "    for data in df.iloc[:,3].to_list():\n",
    "        if data==lang:\n",
    "            langCounts[lang]=langCounts[lang]+df.iloc[i,4]\n",
    "    for data in df.iloc[:,8].to_list():\n",
    "        if data==lang:\n",
    "            langCounts[lang]=langCounts[lang]+df.iloc[i,9]\n",
    "    for data in df.iloc[:,13].to_list():\n",
    "        if data==lang:\n",
    "            langCounts[lang]=langCounts[lang]+df.iloc[i,14]"
   ]
  },
  {
   "cell_type": "code",
   "execution_count": 106,
   "metadata": {},
   "outputs": [],
   "source": [
    "df=pd.DataFrame({'name':list(langCounts.keys()),'count':list(langCounts.values())})"
   ]
  },
  {
   "cell_type": "code",
   "execution_count": 108,
   "metadata": {},
   "outputs": [
    {
     "data": {
      "text/plain": [
       "439520004.0"
      ]
     },
     "execution_count": 108,
     "metadata": {},
     "output_type": "execute_result"
    }
   ],
   "source": [
    "sum(list(langCounts.values()))"
   ]
  },
  {
   "cell_type": "code",
   "execution_count": 107,
   "metadata": {},
   "outputs": [
    {
     "data": {
      "text/html": [
       "<div>\n",
       "<style scoped>\n",
       "    .dataframe tbody tr th:only-of-type {\n",
       "        vertical-align: middle;\n",
       "    }\n",
       "\n",
       "    .dataframe tbody tr th {\n",
       "        vertical-align: top;\n",
       "    }\n",
       "\n",
       "    .dataframe thead th {\n",
       "        text-align: right;\n",
       "    }\n",
       "</style>\n",
       "<table border=\"1\" class=\"dataframe\">\n",
       "  <thead>\n",
       "    <tr style=\"text-align: right;\">\n",
       "      <th></th>\n",
       "      <th>name</th>\n",
       "      <th>count</th>\n",
       "    </tr>\n",
       "  </thead>\n",
       "  <tbody>\n",
       "    <tr>\n",
       "      <th>1</th>\n",
       "      <td>BENGALI</td>\n",
       "      <td>232909845.0</td>\n",
       "    </tr>\n",
       "    <tr>\n",
       "      <th>4</th>\n",
       "      <td>GUJARATI</td>\n",
       "      <td>106466040.0</td>\n",
       "    </tr>\n",
       "    <tr>\n",
       "      <th>117</th>\n",
       "      <td>YIMCHUNGRE</td>\n",
       "      <td>40905138.0</td>\n",
       "    </tr>\n",
       "    <tr>\n",
       "      <th>84</th>\n",
       "      <td>MARAM</td>\n",
       "      <td>30692220.0</td>\n",
       "    </tr>\n",
       "    <tr>\n",
       "      <th>0</th>\n",
       "      <td>ASSAMESE</td>\n",
       "      <td>15311351.0</td>\n",
       "    </tr>\n",
       "    <tr>\n",
       "      <th>...</th>\n",
       "      <td>...</td>\n",
       "      <td>...</td>\n",
       "    </tr>\n",
       "    <tr>\n",
       "      <th>57</th>\n",
       "      <td>KHOND/KONDH</td>\n",
       "      <td>39.0</td>\n",
       "    </tr>\n",
       "    <tr>\n",
       "      <th>58</th>\n",
       "      <td>KINNAURI</td>\n",
       "      <td>24.0</td>\n",
       "    </tr>\n",
       "    <tr>\n",
       "      <th>82</th>\n",
       "      <td>MALTO</td>\n",
       "      <td>22.0</td>\n",
       "    </tr>\n",
       "    <tr>\n",
       "      <th>32</th>\n",
       "      <td>BISHNUPURIYA</td>\n",
       "      <td>16.0</td>\n",
       "    </tr>\n",
       "    <tr>\n",
       "      <th>73</th>\n",
       "      <td>LAHAULI</td>\n",
       "      <td>14.0</td>\n",
       "    </tr>\n",
       "  </tbody>\n",
       "</table>\n",
       "<p>122 rows × 2 columns</p>\n",
       "</div>"
      ],
      "text/plain": [
       "             name        count\n",
       "1        BENGALI   232909845.0\n",
       "4        GUJARATI  106466040.0\n",
       "117    YIMCHUNGRE   40905138.0\n",
       "84          MARAM   30692220.0\n",
       "0        ASSAMESE   15311351.0\n",
       "..            ...          ...\n",
       "57   KHOND/KONDH          39.0\n",
       "58      KINNAURI          24.0\n",
       "82         MALTO          22.0\n",
       "32   BISHNUPURIYA         16.0\n",
       "73       LAHAULI          14.0\n",
       "\n",
       "[122 rows x 2 columns]"
      ]
     },
     "execution_count": 107,
     "metadata": {},
     "output_type": "execute_result"
    }
   ],
   "source": [
    "df.sort_values('count',ascending=False,axis=0)"
   ]
  },
  {
   "cell_type": "code",
   "execution_count": 109,
   "metadata": {},
   "outputs": [
    {
     "data": {
      "text/plain": [
       "43.9520004"
      ]
     },
     "execution_count": 109,
     "metadata": {},
     "output_type": "execute_result"
    }
   ],
   "source": [
    "sum(list(langCounts.values()))/10e+6"
   ]
  },
  {
   "cell_type": "code",
   "execution_count": 48,
   "metadata": {},
   "outputs": [
    {
     "name": "stdout",
     "output_type": "stream",
     "text": [
      "0 BENGALI \n",
      "1 BODO \n",
      "2 HINDI \n",
      "3 KASHMIRI \n",
      "4 MANIPURI \n",
      "5 NEPALI \n",
      "6 PUNJABI \n",
      "7 URDU\n",
      "8 ENGLISH \n",
      "9 MIRI/MISHING\n",
      "10 OTHERS\n",
      "11 ASSAMESE\n",
      "12 DOGRI \n",
      "13 GUJARATI\n",
      "14 MARATHI \n",
      "15 ODIA \n",
      "16 SANSKRIT \n",
      "17 SANTALI \n",
      "18 TAMIL \n",
      "19 TELUGU \n",
      "20 ARABIC/ARBI \n",
      "21 TRIPURI \n",
      "22 MAITHILI \n",
      "23 MALAYALAM\n",
      "24 BALTI \n",
      "25 BHOTIA \n",
      "26 KHANDESHI\n",
      "27 KHASI \n",
      "28 LADAKHI \n",
      "29 LAHNDA \n",
      "30 SHINA\n",
      "31 TIBETAN \n",
      "32 KANNADA\n",
      "33 KONKANI\n",
      "34 AFGHANI/KABULI/PASHTO \n",
      "35 ANAL \n",
      "36 COORGI/KODAGU \n",
      "37 GONDI\n",
      "38 KHARIA \n",
      "39 KINNAURI \n",
      "40 KURUKH/ORAON \n",
      "41 LAHAULI \n",
      "42 LUSHAI/MIZO \n",
      "43 MUNDA\n",
      "44 MUNDARI \n",
      "45 NICOBARESE \n",
      "46 TULU \n",
      "47 SINDHI\n",
      "48 BHILI/BHILODI \n",
      "49 HALAM \n",
      "50 KUKI\n",
      "51 PAITE\n",
      "52 KONYAK \n",
      "53 ADI \n",
      "54 CHANG \n",
      "55 RABHA \n",
      "56 THADO \n",
      "57 KISAN \n"
     ]
    }
   ],
   "source": [
    "for i,data in enumerate(langsList):\n",
    "    print(i,data)"
   ]
  }
 ],
 "metadata": {
  "interpreter": {
   "hash": "365d70965140afb04a698773bfdd31483bc82432b779112c2a78b5de7c16d125"
  },
  "kernelspec": {
   "display_name": "Python 3.8.5 64-bit ('base': conda)",
   "name": "python3"
  },
  "language_info": {
   "codemirror_mode": {
    "name": "ipython",
    "version": 3
   },
   "file_extension": ".py",
   "mimetype": "text/x-python",
   "name": "python",
   "nbconvert_exporter": "python",
   "pygments_lexer": "ipython3",
   "version": "3.8.5"
  },
  "orig_nbformat": 4
 },
 "nbformat": 4,
 "nbformat_minor": 2
}
