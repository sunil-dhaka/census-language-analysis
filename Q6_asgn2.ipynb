{
 "cells": [
  {
   "cell_type": "markdown",
   "metadata": {},
   "source": [
    "- ~~[getting Literate for all states]~~\n",
    "- and also very high value\n",
    "- read que carefully have been asked for literacy sub-category\n",
    "- interesting finding below graduates but metric and secondary passout are doing great in language number in most states(30+)"
   ]
  },
  {
   "cell_type": "code",
   "execution_count": 63,
   "metadata": {},
   "outputs": [],
   "source": [
    "import pandas as pd"
   ]
  },
  {
   "cell_type": "code",
   "execution_count": 64,
   "metadata": {},
   "outputs": [],
   "source": [
    "#===================\n",
    "# # a function that just takes state code that does\n",
    "# manipulates and finds appropriate sum\n",
    "# finds total pop fro that state from census data\n",
    "# then returns a nice ratio dictionary\n",
    "#===================\n",
    "\n",
    "def ratioFinder(stateCode):\n",
    "    # 5 is specific to TOT_P\n",
    "    #statePop=census.iloc[stateCode,5] \n",
    "    # new change from Q5\n",
    "    #========\n",
    "    stateCode=str(stateCode).zfill(2)\n",
    "    #========\n",
    "\n",
    "    df=pd.read_excel('datasets/C-19.xlsx',skiprows=6,header=None,engine='openpyxl')\n",
    "    df=df.loc[df.iloc[:,0]==stateCode]\n",
    "    # also can use this to devide rather than statePop\n",
    "    # the order should not change\n",
    "    totalPop=int(df.loc[df.iloc[:,3]=='Total'].iloc[2,8])\n",
    "    #print(totalPop)\n",
    "    # only considered categories after literate\n",
    "    df=df.loc[df.iloc[:,3]=='Total'].iloc[3:,:]\n",
    "\n",
    "    ageList=df.iloc[:,4].tolist()\n",
    "    highestRatio=0\n",
    "    for i in range(len(ageList)):\n",
    "        ageData={\n",
    "            'state/ut':str(stateCode).zfill(2),\n",
    "            'literacy-group':ageList[i],\n",
    "            'percentage':(int((df.loc[df.iloc[:,4]==ageList[i]]).iloc[:,8])/totalPop)\n",
    "        }\n",
    "        if max(ageData['percentage'],highestRatio)>highestRatio:\n",
    "            highestRatio=ageData['percentage']\n",
    "            stateRatios=ageData\n",
    "            #print(stateRatios)\n",
    "    #print('Processed state -- ',stateCode)\n",
    "    # to make more readable and comparable quickly rounded to 2 decimal points\n",
    "    stateRatios['percentage']=round(stateRatios['percentage'],2)\n",
    "    return stateRatios\n"
   ]
  },
  {
   "cell_type": "code",
   "execution_count": 65,
   "metadata": {},
   "outputs": [
    {
     "name": "stdout",
     "output_type": "stream",
     "text": [
      "CPU times: user 5.34 s, sys: 7.4 ms, total: 5.35 s\n",
      "Wall time: 5.35 s\n"
     ]
    }
   ],
   "source": [
    "%%time\n",
    "ratioList=[ratioFinder(i) for i in range(0,36)]\n",
    "ratioDF=pd.DataFrame(ratioList)\n",
    "ratioDF.to_csv('outputs/literacy-india.csv',index=False)"
   ]
  }
 ],
 "metadata": {
  "interpreter": {
   "hash": "365d70965140afb04a698773bfdd31483bc82432b779112c2a78b5de7c16d125"
  },
  "kernelspec": {
   "display_name": "Python 3.8.5 64-bit ('base': conda)",
   "name": "python3"
  },
  "language_info": {
   "codemirror_mode": {
    "name": "ipython",
    "version": 3
   },
   "file_extension": ".py",
   "mimetype": "text/x-python",
   "name": "python",
   "nbconvert_exporter": "python",
   "pygments_lexer": "ipython3",
   "version": "3.8.5"
  },
  "orig_nbformat": 4
 },
 "nbformat": 4,
 "nbformat_minor": 2
}
